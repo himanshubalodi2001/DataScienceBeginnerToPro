{
 "cells": [
  {
   "cell_type": "code",
   "execution_count": 1,
   "id": "24b750db-a404-49cc-a3be-0b6efe6adad9",
   "metadata": {},
   "outputs": [],
   "source": [
    "#speed test"
   ]
  },
  {
   "cell_type": "code",
   "execution_count": 2,
   "id": "81989d13-4e8c-4412-8afa-72f6845101b5",
   "metadata": {},
   "outputs": [
    {
     "name": "stdout",
     "output_type": "stream",
     "text": [
      "0.6482589244842529\n"
     ]
    }
   ],
   "source": [
    "import numpy as np\n",
    "import time\n",
    "#python list\n",
    "size=1_000_000_0\n",
    "list1=list(range(size))\n",
    "list2=list(range(size))\n",
    "start=time.time()\n",
    "result=[x + y for x, y in zip(list1,list2)]\n",
    "end=time.time()\n",
    "print(end-start)\n"
   ]
  },
  {
   "cell_type": "code",
   "execution_count": 3,
   "id": "fda75682-e103-47b2-927a-0a5331453aef",
   "metadata": {},
   "outputs": [
    {
     "name": "stdout",
     "output_type": "stream",
     "text": [
      "0.11703014373779297\n"
     ]
    }
   ],
   "source": [
    "#Numpy array\n",
    "size=1_000_000_0\n",
    "list1=np.array(list(range(size)))\n",
    "list2=np.array(list(range(size)))\n",
    "start=time.time()\n",
    "result=list1+list2\n",
    "end=time.time()\n",
    "print(end-start)"
   ]
  },
  {
   "cell_type": "code",
   "execution_count": 4,
   "id": "beb7bc93-814c-4f63-a6c8-b851e4dd4526",
   "metadata": {},
   "outputs": [
    {
     "data": {
      "text/plain": [
       "[(1, 6), (2, 7), (3, 8), (4, 9)]"
      ]
     },
     "execution_count": 4,
     "metadata": {},
     "output_type": "execute_result"
    }
   ],
   "source": [
    "#zip example how to zip the two list in python not in numpy\n",
    "list1=[1,2,3,4]\n",
    "list2=[6,7,8,9]\n",
    "list(zip(list1,list2))"
   ]
  },
  {
   "cell_type": "code",
   "execution_count": 5,
   "id": "4b83331d-325a-40ff-af17-694a8959bcd4",
   "metadata": {},
   "outputs": [],
   "source": [
    "#creating 1d and 2d array"
   ]
  },
  {
   "cell_type": "code",
   "execution_count": 6,
   "id": "d2e4f8f7-fafc-40ae-8404-122a8d4ca7a1",
   "metadata": {},
   "outputs": [
    {
     "name": "stdout",
     "output_type": "stream",
     "text": [
      "[ 1  2  3  4  5  6  7  8  9 10]\n"
     ]
    }
   ],
   "source": [
    "arr1=np.array([1,2,3,4,5,6,7,8,9,10])\n",
    "print(arr1)"
   ]
  },
  {
   "cell_type": "code",
   "execution_count": 7,
   "id": "239a5fe3-731e-419a-a9e9-bea03201f1e1",
   "metadata": {},
   "outputs": [
    {
     "data": {
      "text/plain": [
       "numpy.ndarray"
      ]
     },
     "execution_count": 7,
     "metadata": {},
     "output_type": "execute_result"
    }
   ],
   "source": [
    "type(arr1)"
   ]
  },
  {
   "cell_type": "code",
   "execution_count": 8,
   "id": "cb672213-720c-4f38-827d-91f67b7191d9",
   "metadata": {},
   "outputs": [
    {
     "data": {
      "text/plain": [
       "array([[1, 2, 3, 4, 5],\n",
       "       [4, 5, 6, 9, 2]])"
      ]
     },
     "execution_count": 8,
     "metadata": {},
     "output_type": "execute_result"
    }
   ],
   "source": [
    "arr2=np.array([[1,2,3,4,5],[4,5,6,9,2]])\n",
    "arr2"
   ]
  },
  {
   "cell_type": "code",
   "execution_count": 9,
   "id": "2f5e7fe4-5da5-44f9-8808-bfff5d93212d",
   "metadata": {},
   "outputs": [
    {
     "name": "stdout",
     "output_type": "stream",
     "text": [
      "the type of 1d amd 2d array<class 'numpy.ndarray'> and the shape of both as 1D (10,) and 2D (2, 5)\n"
     ]
    }
   ],
   "source": [
    "print(f\"the type of 1d amd 2d array{type(arr2)} and the shape of both as 1D {arr1.shape} and 2D {arr2.shape}\")"
   ]
  },
  {
   "cell_type": "code",
   "execution_count": 10,
   "id": "94a37bae-01d5-4def-9af8-93df2110742f",
   "metadata": {},
   "outputs": [],
   "source": [
    "#memory optimization in numpy"
   ]
  },
  {
   "cell_type": "code",
   "execution_count": 11,
   "id": "5885418d-b323-4dd5-90db-c86cc5403ef3",
   "metadata": {},
   "outputs": [
    {
     "name": "stdout",
     "output_type": "stream",
     "text": [
      "the size of list data in python is 85600 bytes\n",
      "the size of array in numpy compareed to list is 400\n"
     ]
    }
   ],
   "source": [
    "import sys\n",
    "list_data=list(range(100))\n",
    "numpy_data=np.array(list_data)\n",
    "print(f\"the size of list data in python is {sys.getsizeof(list_data)*len(list_data) } bytes\")\n",
    "print(f\"the size of array in numpy compareed to list is {numpy_data.nbytes}\")"
   ]
  },
  {
   "cell_type": "code",
   "execution_count": 12,
   "id": "c2a2ba3d-2b38-42e0-8330-06e7fc08284d",
   "metadata": {},
   "outputs": [
    {
     "data": {
      "text/plain": [
       "[1, 4, 9, 16, 25, 36, 49, 64, 81, 100]"
      ]
     },
     "execution_count": 12,
     "metadata": {},
     "output_type": "execute_result"
    }
   ],
   "source": [
    "#no more loops in python now we see how to do it\n",
    "list=[1,2,3,4,5,6,7,8,9,10]\n",
    "ans=[x**2 for x in list]\n",
    "ans"
   ]
  },
  {
   "cell_type": "code",
   "execution_count": 13,
   "id": "4556f85e-bcb7-45f0-9f2c-fc8a946edb33",
   "metadata": {},
   "outputs": [
    {
     "data": {
      "text/plain": [
       "array([  1,   4,   9,  16,  25,  36,  49,  64,  81, 100])"
      ]
     },
     "execution_count": 13,
     "metadata": {},
     "output_type": "execute_result"
    }
   ],
   "source": [
    "numpy_arr=np.array([1,2,3,4,5,6,7,8,9,10])\n",
    "res=numpy_arr**2\n",
    "res"
   ]
  },
  {
   "cell_type": "code",
   "execution_count": null,
   "id": "cc4b1b31-7b71-4488-ba68-b7fb6ae7892f",
   "metadata": {},
   "outputs": [],
   "source": []
  }
 ],
 "metadata": {
  "kernelspec": {
   "display_name": "Python 3 (ipykernel)",
   "language": "python",
   "name": "python3"
  },
  "language_info": {
   "codemirror_mode": {
    "name": "ipython",
    "version": 3
   },
   "file_extension": ".py",
   "mimetype": "text/x-python",
   "name": "python",
   "nbconvert_exporter": "python",
   "pygments_lexer": "ipython3",
   "version": "3.12.7"
  }
 },
 "nbformat": 4,
 "nbformat_minor": 5
}
