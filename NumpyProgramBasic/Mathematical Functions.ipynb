{
 "cells": [
  {
   "cell_type": "raw",
   "id": "79b90048-5bc8-4467-b12d-210bf0f06512",
   "metadata": {},
   "source": [
    "Built in Mathematical Functions in NumPy"
   ]
  },
  {
   "cell_type": "code",
   "execution_count": 2,
   "id": "c01699c8-10f6-4873-8931-3f9299ecb97c",
   "metadata": {},
   "outputs": [],
   "source": [
    "import numpy as np"
   ]
  },
  {
   "cell_type": "code",
   "execution_count": 17,
   "id": "ec56311b-c478-4c26-b594-6743a99b4550",
   "metadata": {},
   "outputs": [],
   "source": [
    "arr=np.array([2,3,4,5,6,7,8,100])"
   ]
  },
  {
   "cell_type": "code",
   "execution_count": 18,
   "id": "0380d78c-90d4-4f4e-9848-78443515d070",
   "metadata": {},
   "outputs": [
    {
     "data": {
      "text/plain": [
       "16.875"
      ]
     },
     "execution_count": 18,
     "metadata": {},
     "output_type": "execute_result"
    }
   ],
   "source": [
    "np.mean(arr)"
   ]
  },
  {
   "cell_type": "code",
   "execution_count": 19,
   "id": "11cf6cc7-ce7c-46a2-bd91-71cd2a297cb1",
   "metadata": {},
   "outputs": [
    {
     "data": {
      "text/plain": [
       "31.473947559847016"
      ]
     },
     "execution_count": 19,
     "metadata": {},
     "output_type": "execute_result"
    }
   ],
   "source": [
    "np.std(arr)"
   ]
  },
  {
   "cell_type": "code",
   "execution_count": 20,
   "id": "11754814-193b-4dc9-a73c-d6c927d13295",
   "metadata": {},
   "outputs": [
    {
     "data": {
      "text/plain": [
       "990.609375"
      ]
     },
     "execution_count": 20,
     "metadata": {},
     "output_type": "execute_result"
    }
   ],
   "source": [
    "np.var(arr)"
   ]
  },
  {
   "cell_type": "code",
   "execution_count": 21,
   "id": "ba62e961-4283-4a10-8adf-6bd18f9c9280",
   "metadata": {},
   "outputs": [
    {
     "data": {
      "text/plain": [
       "2"
      ]
     },
     "execution_count": 21,
     "metadata": {},
     "output_type": "execute_result"
    }
   ],
   "source": [
    "np.min(arr)"
   ]
  },
  {
   "cell_type": "code",
   "execution_count": 22,
   "id": "3bf4cc38-0256-45d4-88a4-69e2ecc0a480",
   "metadata": {},
   "outputs": [
    {
     "data": {
      "text/plain": [
       "100"
      ]
     },
     "execution_count": 22,
     "metadata": {},
     "output_type": "execute_result"
    }
   ],
   "source": [
    "np.max(arr)"
   ]
  },
  {
   "cell_type": "code",
   "execution_count": 23,
   "id": "47dba5bb-04c0-4822-8cbb-8f3f256f5e3c",
   "metadata": {},
   "outputs": [
    {
     "data": {
      "text/plain": [
       "135"
      ]
     },
     "execution_count": 23,
     "metadata": {},
     "output_type": "execute_result"
    }
   ],
   "source": [
    "np.sum(arr)"
   ]
  },
  {
   "cell_type": "code",
   "execution_count": 24,
   "id": "5ea392ad-9971-4c39-85f8-87fdcf35a12d",
   "metadata": {},
   "outputs": [
    {
     "data": {
      "text/plain": [
       "5.5"
      ]
     },
     "execution_count": 24,
     "metadata": {},
     "output_type": "execute_result"
    }
   ],
   "source": [
    "np.median(arr)"
   ]
  },
  {
   "cell_type": "code",
   "execution_count": 25,
   "id": "ad0513f2-cac9-47e2-9beb-ab7ae50a5d66",
   "metadata": {},
   "outputs": [
    {
     "data": {
      "text/plain": [
       "5.5"
      ]
     },
     "execution_count": 25,
     "metadata": {},
     "output_type": "execute_result"
    }
   ],
   "source": [
    "np.percentile(arr,50)"
   ]
  },
  {
   "cell_type": "code",
   "execution_count": 26,
   "id": "b5242ac8-3e61-4ce6-a8d6-1c4ebbb0c10c",
   "metadata": {},
   "outputs": [
    {
     "data": {
      "text/plain": [
       "0"
      ]
     },
     "execution_count": 26,
     "metadata": {},
     "output_type": "execute_result"
    }
   ],
   "source": [
    "np.argmin(arr)"
   ]
  },
  {
   "cell_type": "code",
   "execution_count": 27,
   "id": "ff4b3f26-24d8-44ec-9384-48dff750fe39",
   "metadata": {},
   "outputs": [
    {
     "data": {
      "text/plain": [
       "7"
      ]
     },
     "execution_count": 27,
     "metadata": {},
     "output_type": "execute_result"
    }
   ],
   "source": [
    "np.argmax(arr)"
   ]
  },
  {
   "cell_type": "code",
   "execution_count": 28,
   "id": "fb0af47b-a759-46a2-8d9b-4c8daa30310e",
   "metadata": {},
   "outputs": [
    {
     "data": {
      "text/plain": [
       "array([  2,   3,   4,   5,   6,   7,   8, 100])"
      ]
     },
     "execution_count": 28,
     "metadata": {},
     "output_type": "execute_result"
    }
   ],
   "source": [
    "np.unique(arr)"
   ]
  },
  {
   "cell_type": "raw",
   "id": "a0aea4e8-a425-40a6-8290-9f21eb3da37b",
   "metadata": {},
   "source": [
    "and so on...."
   ]
  },
  {
   "cell_type": "code",
   "execution_count": null,
   "id": "54fae05e-64cb-4ed1-8c0e-18927adc0cfa",
   "metadata": {},
   "outputs": [],
   "source": []
  }
 ],
 "metadata": {
  "kernelspec": {
   "display_name": "Python 3 (ipykernel)",
   "language": "python",
   "name": "python3"
  },
  "language_info": {
   "codemirror_mode": {
    "name": "ipython",
    "version": 3
   },
   "file_extension": ".py",
   "mimetype": "text/x-python",
   "name": "python",
   "nbconvert_exporter": "python",
   "pygments_lexer": "ipython3",
   "version": "3.12.7"
  }
 },
 "nbformat": 4,
 "nbformat_minor": 5
}
