{
 "cells": [
  {
   "cell_type": "raw",
   "id": "c4a86fa2-b89e-4ef4-af63-b7eb5e6a0777",
   "metadata": {},
   "source": [
    "so in python the loops are typicaly slow in every iteration llop have to check the condition and all so numpy eliminate this slow looping process"
   ]
  },
  {
   "cell_type": "code",
   "execution_count": 1,
   "id": "f4bfd370-9cd7-40cb-9ef6-e11851c9dbc4",
   "metadata": {},
   "outputs": [
    {
     "name": "stdout",
     "output_type": "stream",
     "text": [
      "[12, 13, 14, 15, 16, 17, 18, 19, 20]\n"
     ]
    }
   ],
   "source": [
    "import numpy as  np\n",
    "arr=np.array([2,3,4,5,6,7,8,9,10])\n",
    "new_arr=[]\n",
    "for i in arr:\n",
    "    new_arr.append(i+10)\n",
    "print(new_arr)\n"
   ]
  },
  {
   "cell_type": "raw",
   "id": "c8f63005-284a-449c-b2c9-12a5515279bc",
   "metadata": {},
   "source": [
    "This works, but it’s not efficient. Each loop iteration is slow, especially with large\n",
    "datasets.\n"
   ]
  },
  {
   "cell_type": "raw",
   "id": "eb14bbce-0cae-4e5d-9b3b-c88b1c8961f1",
   "metadata": {},
   "source": [
    "Vectorization: Fixing the Loop Problem\n"
   ]
  },
  {
   "cell_type": "code",
   "execution_count": 2,
   "id": "cdbba874-93ac-46ee-a4e8-591d814afb11",
   "metadata": {},
   "outputs": [
    {
     "data": {
      "text/plain": [
       "array([  4,   9,  16,  25,  36,  49,  64,  81, 100])"
      ]
     },
     "execution_count": 2,
     "metadata": {},
     "output_type": "execute_result"
    }
   ],
   "source": [
    "arr1=np.array([2,3,4,5,6,7,8,9,10])\n",
    "new_arr=arr1**2\n",
    "new_arr"
   ]
  },
  {
   "cell_type": "code",
   "execution_count": 3,
   "id": "b3c60e7e-41f8-44c8-8840-1d863f85329a",
   "metadata": {},
   "outputs": [
    {
     "data": {
      "text/plain": [
       "array([22, 23, 24, 25, 26, 27, 28, 29, 30])"
      ]
     },
     "execution_count": 3,
     "metadata": {},
     "output_type": "execute_result"
    }
   ],
   "source": [
    "arr2=arr1+20\n",
    "arr2"
   ]
  },
  {
   "cell_type": "raw",
   "id": "d78c3959-6be2-41c9-aeb4-7f027cbac790",
   "metadata": {},
   "source": [
    "so we see how fast and low loc can help in numpy calculation more fast,less loc and memory efficent no need to make different copies-"
   ]
  },
  {
   "cell_type": "markdown",
   "id": "cade4f16-af38-418e-8b85-213653543367",
   "metadata": {},
   "source": [
    "Broadcasting with Arrays of Different Shapes"
   ]
  },
  {
   "cell_type": "code",
   "execution_count": 4,
   "id": "f964c0a7-83e1-41fc-8da8-0285ba3b13fd",
   "metadata": {},
   "outputs": [
    {
     "data": {
      "text/plain": [
       "array([[11, 22, 33, 44],\n",
       "       [15, 26, 37, 48]])"
      ]
     },
     "execution_count": 4,
     "metadata": {},
     "output_type": "execute_result"
    }
   ],
   "source": [
    "b_arr=np.array([[1,2,3,4],[5,6,7,8]])\n",
    "c_arr=np.array([10,20,30,40])\n",
    "n_arr=b_arr+c_arr\n",
    "n_arr"
   ]
  },
  {
   "cell_type": "raw",
   "id": "1c27ebcc-9cdf-40fd-a51b-5c78143c0389",
   "metadata": {},
   "source": [
    "so we can brodacast with difeernt shap like 2 d to 1d or 2d to 3d but have an equal row"
   ]
  },
  {
   "cell_type": "markdown",
   "id": "5353472b-21e0-4768-84cc-9ffd4524f6aa",
   "metadata": {},
   "source": [
    "Hands-on: Applying Broadcasting to Real-World Scenarios"
   ]
  },
  {
   "cell_type": "code",
   "execution_count": 5,
   "id": "3c1885ba-4a5a-444f-85bc-0595c5c8d912",
   "metadata": {},
   "outputs": [
    {
     "name": "stdout",
     "output_type": "stream",
     "text": [
      "[[-1.41421356 -1.41421356 -1.41421356]\n",
      " [-0.70710678 -0.70710678 -0.70710678]\n",
      " [ 0.          0.          0.        ]\n",
      " [ 0.70710678  0.70710678  0.70710678]\n",
      " [ 1.41421356  1.41421356  1.41421356]]\n"
     ]
    }
   ],
   "source": [
    "data = np.array([[10, 20, 30],\n",
    "[15, 25, 35],\n",
    "[20, 30, 40],\n",
    "[25, 35, 45],\n",
    "[30, 40, 50]])\n",
    "\n",
    "mean=data.mean(axis=0)\n",
    "std=data.std(axis=0)\n",
    "normalized=(data-mean)/std\n",
    "print(normalized)"
   ]
  },
  {
   "cell_type": "raw",
   "id": "6b4a95d2-6dd3-4b98-9741-1ced6735c14e",
   "metadata": {},
   "source": [
    "Summary:\n",
    "Loops are slow because Python’s interpreter adds overhead, making iteration\n",
    "less efficient.\n",
    "Vectorization allows you to apply operations to entire arrays at once, greatly\n",
    "improving performance by utilizing NumPy’s optimized C backend.\n",
    "Broadcasting enables operations between arrays of different shapes by\n",
    "automatically stretching the smaller array to match the shape of the larger\n",
    "array, without creating additional copies.\n",
    "Real-world use: Broadcasting can be used in data science tasks, such as\n",
    "normalizing datasets, without sacrificing memory or performance.\n"
   ]
  },
  {
   "cell_type": "code",
   "execution_count": null,
   "id": "4aa5242f-e2fe-4d01-b444-5906e1371ec4",
   "metadata": {},
   "outputs": [],
   "source": []
  }
 ],
 "metadata": {
  "kernelspec": {
   "display_name": "Python 3 (ipykernel)",
   "language": "python",
   "name": "python3"
  },
  "language_info": {
   "codemirror_mode": {
    "name": "ipython",
    "version": 3
   },
   "file_extension": ".py",
   "mimetype": "text/x-python",
   "name": "python",
   "nbconvert_exporter": "python",
   "pygments_lexer": "ipython3",
   "version": "3.12.7"
  }
 },
 "nbformat": 4,
 "nbformat_minor": 5
}
