{
 "cells": [
  {
   "cell_type": "code",
   "execution_count": 3,
   "id": "14b1caeb-8da3-4df9-aa05-7044b5c8e465",
   "metadata": {},
   "outputs": [
    {
     "name": "stdout",
     "output_type": "stream",
     "text": [
      "(3, 3)\n"
     ]
    }
   ],
   "source": [
    "import numpy as np\n",
    "arr1=np.array([[1,2,3],[4,5,6],[7,8,9]])\n",
    "print(arr1.shape)"
   ]
  },
  {
   "cell_type": "code",
   "execution_count": 4,
   "id": "9ca0078f-c255-470c-ae91-1dfd8fae71f4",
   "metadata": {},
   "outputs": [
    {
     "name": "stdout",
     "output_type": "stream",
     "text": [
      "[2 4 6 8]\n"
     ]
    }
   ],
   "source": [
    "even_num=arr1%2==0\n",
    "print(arr1[even_num])"
   ]
  },
  {
   "cell_type": "code",
   "execution_count": 5,
   "id": "ccb4ae3e-2f92-43b3-a937-1e7f305765aa",
   "metadata": {},
   "outputs": [
    {
     "name": "stdout",
     "output_type": "stream",
     "text": [
      "[[1 2 3]\n",
      " [4 5 6]\n",
      " [7 8 9]]\n"
     ]
    }
   ],
   "source": [
    "arr_num=np.array([1,2,3,4,5,6,7,8,9])\n",
    "print(arr_num.reshape((3,3)))"
   ]
  },
  {
   "cell_type": "code",
   "execution_count": 8,
   "id": "0ce3095f-7861-41ce-81b5-9bf18d653931",
   "metadata": {},
   "outputs": [
    {
     "name": "stdout",
     "output_type": "stream",
     "text": [
      "[78 92 88 73 96 81 84 90]\n"
     ]
    }
   ],
   "source": [
    "arr_new_num=np.array([78, 45, 92 ,61 ,37, 88 ,54 ,73, 29 ,96, 81, 67, 43, 59 ,25, 84, 33, 70 ,90 ,49])\n",
    "fil=arr_new_num>70\n",
    "print(arr_new_num[fil])"
   ]
  },
  {
   "cell_type": "code",
   "execution_count": 11,
   "id": "738693e9-8611-4f77-9347-993a49a1cb34",
   "metadata": {},
   "outputs": [
    {
     "name": "stdout",
     "output_type": "stream",
     "text": [
      "float32\n",
      "int32\n"
     ]
    }
   ],
   "source": [
    "a=np.array([1,2,3,4,5,6,7,8],dtype=np.float32)\n",
    "print(a.dtype)\n",
    "int_a=a.astype(np.int32)\n",
    "print(int_a.dtype)"
   ]
  },
  {
   "cell_type": "code",
   "execution_count": null,
   "id": "884b92c5-1f75-4298-b944-1534b0dd7965",
   "metadata": {},
   "outputs": [],
   "source": []
  }
 ],
 "metadata": {
  "kernelspec": {
   "display_name": "Python 3 (ipykernel)",
   "language": "python",
   "name": "python3"
  },
  "language_info": {
   "codemirror_mode": {
    "name": "ipython",
    "version": 3
   },
   "file_extension": ".py",
   "mimetype": "text/x-python",
   "name": "python",
   "nbconvert_exporter": "python",
   "pygments_lexer": "ipython3",
   "version": "3.12.7"
  }
 },
 "nbformat": 4,
 "nbformat_minor": 5
}
