{
 "cells": [
  {
   "cell_type": "raw",
   "id": "4300eeac-974d-42b5-9fe2-c0092e2593d7",
   "metadata": {},
   "source": [
    "Common Data Types in NumPy:\n",
    "int32 , int64 : Integer types with different bit sizes.\n",
    "float32 , float64 : Floating-point types with different precision.\n",
    "bool : Boolean data type.\n",
    "complex64 , complex128 : Complex number types.\n",
    "object : For storing objects (e.g., Python objects, strings)"
   ]
  },
  {
   "cell_type": "code",
   "execution_count": 2,
   "id": "1ffbe113-4d6a-4757-8563-69086011edb7",
   "metadata": {},
   "outputs": [
    {
     "data": {
      "text/plain": [
       "dtype('int32')"
      ]
     },
     "execution_count": 2,
     "metadata": {},
     "output_type": "execute_result"
    }
   ],
   "source": [
    "import numpy as np\n",
    "arr=np.array([10,20,30,40,50,60])\n",
    "arr.dtype"
   ]
  },
  {
   "cell_type": "code",
   "execution_count": 3,
   "id": "0474b32c-f73f-4cc3-a493-4f8fb014ec47",
   "metadata": {},
   "outputs": [],
   "source": [
    "arr1=np.array([4,6,7,8,9,4,2],dtype=\"float32\")"
   ]
  },
  {
   "cell_type": "code",
   "execution_count": 5,
   "id": "e689b98c-d404-4497-b6a5-81eb3ed23b0c",
   "metadata": {},
   "outputs": [
    {
     "data": {
      "text/plain": [
       "dtype('float32')"
      ]
     },
     "execution_count": 5,
     "metadata": {},
     "output_type": "execute_result"
    }
   ],
   "source": [
    "arr1.dtype #how we can change the data type of array basic operation"
   ]
  },
  {
   "cell_type": "code",
   "execution_count": 6,
   "id": "58f4e341-78f6-4c3e-b484-5546f992c8a7",
   "metadata": {},
   "outputs": [],
   "source": [
    "int_arr=arr1.astype(np.int32) # 2nd way to convert float or in or any data type"
   ]
  },
  {
   "cell_type": "code",
   "execution_count": 8,
   "id": "dcb2a07e-9519-43b5-9258-cd1d15a28a55",
   "metadata": {},
   "outputs": [
    {
     "data": {
      "text/plain": [
       "dtype('int32')"
      ]
     },
     "execution_count": 8,
     "metadata": {},
     "output_type": "execute_result"
    }
   ],
   "source": [
    "int_arr.dtype"
   ]
  },
  {
   "cell_type": "raw",
   "id": "9bbf03ea-b74c-4d67-8254-12561de87ea0",
   "metadata": {},
   "source": [
    "one of the reason to downcasting the dataype to save memory \n",
    "\n",
    "example:-"
   ]
  },
  {
   "cell_type": "code",
   "execution_count": 9,
   "id": "e10f58f5-c9c1-4e34-8eea-fb37d5a2fbd2",
   "metadata": {},
   "outputs": [],
   "source": [
    "arr_og=np.array([10000,20000,200003,49499229,3939282882])"
   ]
  },
  {
   "cell_type": "code",
   "execution_count": 11,
   "id": "b3884c27-6865-4906-a1bf-509f17a9e2cf",
   "metadata": {},
   "outputs": [
    {
     "data": {
      "text/plain": [
       "dtype('int64')"
      ]
     },
     "execution_count": 11,
     "metadata": {},
     "output_type": "execute_result"
    }
   ],
   "source": [
    "arr_og.dtype"
   ]
  },
  {
   "cell_type": "raw",
   "id": "161eb491-4d53-458c-87ee-fb54d8b3597a",
   "metadata": {},
   "source": [
    "we convert this int64 to int32 for more efficient memory"
   ]
  },
  {
   "cell_type": "code",
   "execution_count": 12,
   "id": "449d0bf6-b553-4c16-92eb-2dd12b28814e",
   "metadata": {},
   "outputs": [],
   "source": [
    "arr_og_new=arr_og.astype(np.int32)"
   ]
  },
  {
   "cell_type": "code",
   "execution_count": 14,
   "id": "abe52edd-8c58-4dea-bf9a-38ec0cb74f74",
   "metadata": {},
   "outputs": [
    {
     "data": {
      "text/plain": [
       "dtype('int32')"
      ]
     },
     "execution_count": 14,
     "metadata": {},
     "output_type": "execute_result"
    }
   ],
   "source": [
    "arr_og_new.dtype  # so we convert the int64 to int32 to save memory "
   ]
  },
  {
   "cell_type": "raw",
   "id": "ebe1c755-3165-46db-884a-da8d58a00acc",
   "metadata": {},
   "source": [
    "ONE OF THE BEST EXAMPLE"
   ]
  },
  {
   "cell_type": "code",
   "execution_count": 16,
   "id": "f918ab11-076d-4190-833d-a38722a739b4",
   "metadata": {},
   "outputs": [
    {
     "name": "stdout",
     "output_type": "stream",
     "text": [
      "24\n",
      "12\n"
     ]
    }
   ],
   "source": [
    "arr_int64 = np.array([1, 2, 3], dtype=np.int64)\n",
    "arr_int32 = np.array([1, 2, 3], dtype=np.int32)\n",
    "print(arr_int64.nbytes)\n",
    "print(arr_int32.nbytes) # so we can see the differences"
   ]
  },
  {
   "cell_type": "raw",
   "id": "370531de-2e16-44ff-86f0-16987866ffc6",
   "metadata": {},
   "source": [
    "arr = np.array(['apple', 'banana', 'cherry'], dtype='U10') # Unicode string array\n",
    "print(arr) # but not mandatory to use"
   ]
  },
  {
   "cell_type": "raw",
   "id": "a3942d87-a946-4198-931c-aa32969d8d06",
   "metadata": {},
   "source": [
    "Summary:\n",
    "NumPy arrays are homogeneous, meaning all elements must be of the same\n",
    "type.\n",
    "Use .astype() to change data types and optimize memory and\n",
    "performance.\n",
    "The choice of data type affects memory usage, performance, and precision.\n",
    "Be mindful of complex numbers and object data types, which can increase\n",
    "memory usage and reduce performance.\n"
   ]
  },
  {
   "cell_type": "code",
   "execution_count": null,
   "id": "83afa697-d344-41a9-87be-905e4302814f",
   "metadata": {},
   "outputs": [],
   "source": []
  }
 ],
 "metadata": {
  "kernelspec": {
   "display_name": "Python 3 (ipykernel)",
   "language": "python",
   "name": "python3"
  },
  "language_info": {
   "codemirror_mode": {
    "name": "ipython",
    "version": 3
   },
   "file_extension": ".py",
   "mimetype": "text/x-python",
   "name": "python",
   "nbconvert_exporter": "python",
   "pygments_lexer": "ipython3",
   "version": "3.12.7"
  }
 },
 "nbformat": 4,
 "nbformat_minor": 5
}
