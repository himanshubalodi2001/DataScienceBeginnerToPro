{
 "cells": [
  {
   "cell_type": "code",
   "execution_count": 1,
   "id": "376fac74-3ec4-41f4-aec3-a8cabb7f988f",
   "metadata": {},
   "outputs": [],
   "source": [
    "#indexing and slicing"
   ]
  },
  {
   "cell_type": "code",
   "execution_count": 3,
   "id": "ce899b2f-fb68-4d2f-ae4d-adb39516673e",
   "metadata": {},
   "outputs": [],
   "source": [
    "import numpy as np\n",
    "myarr=np.array([[1,2,3],[4,5,6],[7,8,9],[10,11,12]])"
   ]
  },
  {
   "cell_type": "code",
   "execution_count": 4,
   "id": "678f85d1-c64b-4a2a-86f0-d4743ec9430a",
   "metadata": {},
   "outputs": [],
   "source": [
    "flat=myarr.flatten()"
   ]
  },
  {
   "cell_type": "code",
   "execution_count": 5,
   "id": "9523a3d2-8c57-426d-a28f-07b8897ff0aa",
   "metadata": {},
   "outputs": [
    {
     "data": {
      "text/plain": [
       "array([ 1,  2,  3,  4,  5,  6,  7,  8,  9, 10, 11, 12])"
      ]
     },
     "execution_count": 5,
     "metadata": {},
     "output_type": "execute_result"
    }
   ],
   "source": [
    "flat"
   ]
  },
  {
   "cell_type": "code",
   "execution_count": 8,
   "id": "2b971973-7abf-4432-a7a9-a9421119e9cf",
   "metadata": {},
   "outputs": [
    {
     "data": {
      "text/plain": [
       "1"
      ]
     },
     "execution_count": 8,
     "metadata": {},
     "output_type": "execute_result"
    }
   ],
   "source": [
    "flat[0]"
   ]
  },
  {
   "cell_type": "code",
   "execution_count": 10,
   "id": "f27b7c76-907e-4980-bd12-154edc0d6fa0",
   "metadata": {},
   "outputs": [
    {
     "data": {
      "text/plain": [
       "array([4, 5, 6])"
      ]
     },
     "execution_count": 10,
     "metadata": {},
     "output_type": "execute_result"
    }
   ],
   "source": [
    "flat[3:6] # n-1"
   ]
  },
  {
   "cell_type": "code",
   "execution_count": 12,
   "id": "df0bfa5e-3675-47b8-98ad-fbe7ee673ea9",
   "metadata": {},
   "outputs": [
    {
     "data": {
      "text/plain": [
       "array([1, 2, 3, 4, 5])"
      ]
     },
     "execution_count": 12,
     "metadata": {},
     "output_type": "execute_result"
    }
   ],
   "source": [
    "flat[:5] # same as o to 5"
   ]
  },
  {
   "cell_type": "code",
   "execution_count": 13,
   "id": "53c79a75-aff8-4d93-b3d4-f6d9f3887ff4",
   "metadata": {},
   "outputs": [
    {
     "data": {
      "text/plain": [
       "array([ 4,  5,  6,  7,  8,  9, 10, 11, 12])"
      ]
     },
     "execution_count": 13,
     "metadata": {},
     "output_type": "execute_result"
    }
   ],
   "source": [
    "flat[3:]"
   ]
  },
  {
   "cell_type": "code",
   "execution_count": 15,
   "id": "639b3183-d115-4bac-bc6e-f671bf4a6eda",
   "metadata": {},
   "outputs": [
    {
     "data": {
      "text/plain": [
       "array([ 1,  4,  7, 10])"
      ]
     },
     "execution_count": 15,
     "metadata": {},
     "output_type": "execute_result"
    }
   ],
   "source": [
    "flat[::3] # o th  to the gap of _:_:3 "
   ]
  },
  {
   "cell_type": "markdown",
   "id": "5997a577-0e89-4a1b-a1a0-cc724a5973f6",
   "metadata": {},
   "source": [
    "so the most important numpy not make copy suppose \n",
    "i have flat and i print in a variable from 2 index to 5 index\n",
    "so the variable have the array 2 to 5 as n\n",
    "no if i change that variable array by varuiable[0]= 444444 value , it will reflect to the main flat array "
   ]
  },
  {
   "cell_type": "code",
   "execution_count": 17,
   "id": "31b423f2-7885-422b-ad98-b8c12bb7dd99",
   "metadata": {},
   "outputs": [
    {
     "data": {
      "text/plain": [
       "array([ 1,  2,  3,  4,  5,  6,  7,  8,  9, 10, 11, 12])"
      ]
     },
     "execution_count": 17,
     "metadata": {},
     "output_type": "execute_result"
    }
   ],
   "source": [
    "flat"
   ]
  },
  {
   "cell_type": "code",
   "execution_count": 18,
   "id": "5fd5e576-edc2-4245-b7c8-b0e0453190b9",
   "metadata": {},
   "outputs": [
    {
     "name": "stdout",
     "output_type": "stream",
     "text": [
      "[3 4 5 6]\n"
     ]
    }
   ],
   "source": [
    "a=flat[2:6]\n",
    "print(a)"
   ]
  },
  {
   "cell_type": "code",
   "execution_count": 19,
   "id": "e0991ea0-9ec9-4793-bba9-4a4895e54590",
   "metadata": {},
   "outputs": [],
   "source": [
    "a[0]=5050505"
   ]
  },
  {
   "cell_type": "code",
   "execution_count": 20,
   "id": "3045ef12-7304-4108-86b7-50da02d499e6",
   "metadata": {},
   "outputs": [
    {
     "data": {
      "text/plain": [
       "array([5050505,       4,       5,       6])"
      ]
     },
     "execution_count": 20,
     "metadata": {},
     "output_type": "execute_result"
    }
   ],
   "source": [
    "a"
   ]
  },
  {
   "cell_type": "code",
   "execution_count": 21,
   "id": "9b18a238-23c1-4e5b-8816-a69e5a08b894",
   "metadata": {},
   "outputs": [],
   "source": [
    "#but twist is this that it chnages to flat also not only in a variable "
   ]
  },
  {
   "cell_type": "code",
   "execution_count": 22,
   "id": "e44027a1-3190-492e-b9c6-6dfb4407120b",
   "metadata": {},
   "outputs": [
    {
     "data": {
      "text/plain": [
       "array([      1,       2, 5050505,       4,       5,       6,       7,\n",
       "             8,       9,      10,      11,      12])"
      ]
     },
     "execution_count": 22,
     "metadata": {},
     "output_type": "execute_result"
    }
   ],
   "source": [
    "flat"
   ]
  },
  {
   "cell_type": "markdown",
   "id": "7dd112d1-79db-447f-8bef-f05d8c232d44",
   "metadata": {},
   "source": [
    "so slicing retrun a view not a copy! changes affect the original array\n",
    "\n",
    "WHY IT USED?\n",
    "FOR FAST AND EFFICIENT\n",
    "IF COPY IT MIGHT SLOW\n"
   ]
  },
  {
   "cell_type": "code",
   "execution_count": 24,
   "id": "de8cc9b6-d48f-417e-814a-93b31aaa68a5",
   "metadata": {},
   "outputs": [
    {
     "data": {
      "text/plain": [
       "array([5050505,       4,       5,       6,       7,       8,       9,\n",
       "            10,      11])"
      ]
     },
     "execution_count": 24,
     "metadata": {},
     "output_type": "execute_result"
    }
   ],
   "source": [
    "#IF I HAVE TO MAKE A COPY .copy() method\n",
    "A=flat[2:11].copy()\n",
    "A"
   ]
  },
  {
   "cell_type": "code",
   "execution_count": 27,
   "id": "f504de00-f240-4d4e-8ccc-8a7d904e7a59",
   "metadata": {},
   "outputs": [
    {
     "data": {
      "text/plain": [
       "array([398355,      4,      5,      6,      7,      8,      9,     10,\n",
       "           11])"
      ]
     },
     "execution_count": 27,
     "metadata": {},
     "output_type": "execute_result"
    }
   ],
   "source": [
    "A[0]=398355\n",
    "A\n"
   ]
  },
  {
   "cell_type": "code",
   "execution_count": 28,
   "id": "db26b7e5-26c3-4943-b187-d421ca7978f4",
   "metadata": {},
   "outputs": [
    {
     "data": {
      "text/plain": [
       "array([      1,       2, 5050505,       4,       5,       6,       7,\n",
       "             8,       9,      10,      11,      12])"
      ]
     },
     "execution_count": 28,
     "metadata": {},
     "output_type": "execute_result"
    }
   ],
   "source": [
    "flat"
   ]
  },
  {
   "cell_type": "code",
   "execution_count": 29,
   "id": "df7e8a84-858c-42d9-b77a-cacceeb6b6f0",
   "metadata": {},
   "outputs": [],
   "source": [
    "#so it not affect the original"
   ]
  },
  {
   "cell_type": "code",
   "execution_count": 34,
   "id": "7217cd92-f936-42cf-a508-e3213ba2c640",
   "metadata": {},
   "outputs": [
    {
     "data": {
      "text/plain": [
       "array([ 1,  5, 77])"
      ]
     },
     "execution_count": 34,
     "metadata": {},
     "output_type": "execute_result"
    }
   ],
   "source": [
    "#fancy indexing\n",
    "array1=np.array([1,234,5,46,5675,77])\n",
    "array1[[0,2,5]]#how to use fancy indexing\n"
   ]
  },
  {
   "cell_type": "code",
   "execution_count": 35,
   "id": "ea3ac0d1-d1b9-47b2-b9b5-3825e8270c6f",
   "metadata": {},
   "outputs": [],
   "source": [
    "#boolean masking filter data"
   ]
  },
  {
   "cell_type": "code",
   "execution_count": 38,
   "id": "7f37d034-872e-4971-9b0a-1108c6e0b30c",
   "metadata": {},
   "outputs": [
    {
     "data": {
      "text/plain": [
       "array([46, 55,  7])"
      ]
     },
     "execution_count": 38,
     "metadata": {},
     "output_type": "execute_result"
    }
   ],
   "source": [
    "array2=np.array([1,2,5,46,55,7])\n",
    "array2[array2>5]"
   ]
  },
  {
   "cell_type": "code",
   "execution_count": 40,
   "id": "319acc8e-5a8d-4e6d-999b-09bbd7e5f6b4",
   "metadata": {},
   "outputs": [
    {
     "data": {
      "text/plain": [
       "array([5, 4, 5, 7])"
      ]
     },
     "execution_count": 40,
     "metadata": {},
     "output_type": "execute_result"
    }
   ],
   "source": [
    "#ONE MORE EXAMPLE\n",
    "array3=np.array([1,2,5,4,5,7])\n",
    "con=array3>2\n",
    "array3[con]"
   ]
  },
  {
   "cell_type": "code",
   "execution_count": null,
   "id": "06c534b1-4966-4a00-bef2-b18f67963269",
   "metadata": {},
   "outputs": [],
   "source": []
  }
 ],
 "metadata": {
  "kernelspec": {
   "display_name": "Python 3 (ipykernel)",
   "language": "python",
   "name": "python3"
  },
  "language_info": {
   "codemirror_mode": {
    "name": "ipython",
    "version": 3
   },
   "file_extension": ".py",
   "mimetype": "text/x-python",
   "name": "python",
   "nbconvert_exporter": "python",
   "pygments_lexer": "ipython3",
   "version": "3.12.7"
  }
 },
 "nbformat": 4,
 "nbformat_minor": 5
}
