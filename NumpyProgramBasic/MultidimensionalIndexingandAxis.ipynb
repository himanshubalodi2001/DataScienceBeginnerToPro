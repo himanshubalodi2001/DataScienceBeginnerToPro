{
 "cells": [
  {
   "cell_type": "code",
   "execution_count": 1,
   "id": "c6a48bc7-753a-45f4-8e67-26d1d584acad",
   "metadata": {},
   "outputs": [
    {
     "name": "stdout",
     "output_type": "stream",
     "text": [
      "45\n"
     ]
    }
   ],
   "source": [
    "import numpy as np\n",
    "arr2=np.array([[1,2,3,4,],\n",
    "               [5,6,7,8]])\n",
    "arr3=np.array([[[2,3,4,5],\n",
    "                [6,7,8,9]],  \n",
    "               \n",
    "               [[1,7,5,3],\n",
    "                [2,8,2,1]]])\n",
    "arr1=np.array([1,2,3,4,5,6,7,8,9])\n",
    "# so there are three types of dimensin in array 1d ,2d ,3d\n",
    "print(sum(arr1))\n"
   ]
  },
  {
   "cell_type": "code",
   "execution_count": 2,
   "id": "8fa92462-51f1-4cc0-bfdb-cef8a36d0901",
   "metadata": {},
   "outputs": [
    {
     "name": "stdout",
     "output_type": "stream",
     "text": [
      "[ 6  8 10 12]\n",
      "[10 26]\n"
     ]
    }
   ],
   "source": [
    "print(np.sum(arr2,axis=0))\n",
    "print(np.sum(arr2,axis=1)) #in this we said 0 axis means from 0th row and add 1st element + 1th rows 1st element and then 2nd row and so on"
   ]
  },
  {
   "cell_type": "markdown",
   "id": "d3648ea8-b352-41c5-bcb5-0467805f383c",
   "metadata": {},
   "source": [
    "#indexing 2d array in multidimensional arrays"
   ]
  },
  {
   "cell_type": "code",
   "execution_count": 3,
   "id": "7754d092-3519-4331-a47e-ab46f9499ae3",
   "metadata": {},
   "outputs": [
    {
     "name": "stdout",
     "output_type": "stream",
     "text": [
      "7\n"
     ]
    }
   ],
   "source": [
    "print(arr2[1,2]) #answer is 7 exp- we said that go to 1st row and then its 2 index number"
   ]
  },
  {
   "cell_type": "code",
   "execution_count": 4,
   "id": "d28d7bb1-1dd1-4dd2-9e7c-fbc0f70ebd6a",
   "metadata": {},
   "outputs": [
    {
     "name": "stdout",
     "output_type": "stream",
     "text": [
      "4\n"
     ]
    }
   ],
   "source": [
    "print(arr2[0,3]) #ans-4"
   ]
  },
  {
   "cell_type": "code",
   "execution_count": 5,
   "id": "c4f18166-ea97-4ad3-9cb4-d035c88016ae",
   "metadata": {},
   "outputs": [
    {
     "name": "stdout",
     "output_type": "stream",
     "text": [
      "[[2 3 4]\n",
      " [6 7 8]]\n"
     ]
    }
   ],
   "source": [
    "print(arr2[0:2,1:4]) #ans= 2,6,3,7,4,8"
   ]
  },
  {
   "cell_type": "code",
   "execution_count": 6,
   "id": "af9c2681-323e-4860-9557-d886fee5fcaa",
   "metadata": {},
   "outputs": [
    {
     "name": "stdout",
     "output_type": "stream",
     "text": [
      "[[1 2 3]\n",
      " [5 6 7]]\n"
     ]
    }
   ],
   "source": [
    "print(arr2[:2, :3]) # 1,2,3 and5,6,7"
   ]
  },
  {
   "cell_type": "raw",
   "id": "5b6c0b2f-144e-40dd-9b53-ebe3b6ee62e6",
   "metadata": {},
   "source": [
    "Indexing in 3D Arrays\n",
    "arr3=np.array\n",
    "([[[2,3,4,5] ,\n",
    "[6,7,8,9]],  \n",
    "               \n",
    " [[1,7,5,3],\n",
    "[2,8,2,1]]])\n",
    "                \n"
   ]
  },
  {
   "cell_type": "code",
   "execution_count": 7,
   "id": "9ddc4eea-d0c6-4e1a-bfb5-a75e5832dbf4",
   "metadata": {},
   "outputs": [
    {
     "data": {
      "text/plain": [
       "(2, 2, 4)"
      ]
     },
     "execution_count": 7,
     "metadata": {},
     "output_type": "execute_result"
    }
   ],
   "source": [
    "arr3.shape #it contains 0,1 depth , {0,1 row }, {0,1,2,3 colomns} why because indexing refers to n-1"
   ]
  },
  {
   "cell_type": "code",
   "execution_count": 8,
   "id": "38e85b32-2e21-4823-9178-338ffe4662e7",
   "metadata": {},
   "outputs": [
    {
     "data": {
      "text/plain": [
       "2"
      ]
     },
     "execution_count": 8,
     "metadata": {},
     "output_type": "execute_result"
    }
   ],
   "source": [
    "arr3[1,1,2] # correct is 2"
   ]
  },
  {
   "cell_type": "code",
   "execution_count": 9,
   "id": "8f025e55-2a24-481d-a3ce-2d6c5f36619b",
   "metadata": {},
   "outputs": [
    {
     "data": {
      "text/plain": [
       "9"
      ]
     },
     "execution_count": 9,
     "metadata": {},
     "output_type": "execute_result"
    }
   ],
   "source": [
    "arr3[0,1,3]"
   ]
  },
  {
   "cell_type": "code",
   "execution_count": 10,
   "id": "b4316b38-1b94-4c41-8b83-8f7a8bb8c6f8",
   "metadata": {},
   "outputs": [
    {
     "name": "stdout",
     "output_type": "stream",
     "text": [
      "[[2 3 4 5]\n",
      " [1 7 5 3]]\n"
     ]
    }
   ],
   "source": [
    "print(arr3[:, 0, :]) #[[2,3,4,5] and    [[1,7,5,3],"
   ]
  },
  {
   "cell_type": "code",
   "execution_count": 11,
   "id": "bf76ea01-70df-4b6e-912c-06b2b6a1314f",
   "metadata": {},
   "outputs": [
    {
     "data": {
      "text/plain": [
       "array([1, 5])"
      ]
     },
     "execution_count": 11,
     "metadata": {},
     "output_type": "execute_result"
    }
   ],
   "source": [
    "arr2[:, 0] # 1,5\n"
   ]
  },
  {
   "cell_type": "code",
   "execution_count": 12,
   "id": "633d8d34-f11b-4f70-98fd-0593350bb152",
   "metadata": {},
   "outputs": [
    {
     "data": {
      "text/plain": [
       "array([[2, 3, 4, 5],\n",
       "       [1, 7, 5, 3]])"
      ]
     },
     "execution_count": 12,
     "metadata": {},
     "output_type": "execute_result"
    }
   ],
   "source": [
    "arr3[:, 0, :] #[[2,3,4,5] , [1, 7, 5, 3]"
   ]
  },
  {
   "cell_type": "raw",
   "id": "234a9665-bb1e-409e-8eb8-31f27f7962cf",
   "metadata": {},
   "source": [
    "Changing Data Along an Axis"
   ]
  },
  {
   "cell_type": "code",
   "execution_count": 13,
   "id": "f12e1acf-8eab-48c9-9001-b57372c22275",
   "metadata": {},
   "outputs": [],
   "source": [
    "arr2[:,2]=0"
   ]
  },
  {
   "cell_type": "code",
   "execution_count": 14,
   "id": "4a7c6c32-9db0-4d3b-b678-c2a946c6a307",
   "metadata": {},
   "outputs": [
    {
     "data": {
      "text/plain": [
       "array([[1, 2, 0, 4],\n",
       "       [5, 6, 0, 8]])"
      ]
     },
     "execution_count": 14,
     "metadata": {},
     "output_type": "execute_result"
    }
   ],
   "source": [
    "arr2"
   ]
  },
  {
   "cell_type": "code",
   "execution_count": 15,
   "id": "702737d7-9e00-4984-a5ff-2daa8674af45",
   "metadata": {},
   "outputs": [
    {
     "data": {
      "text/plain": [
       "array([7, 8])"
      ]
     },
     "execution_count": 15,
     "metadata": {},
     "output_type": "execute_result"
    }
   ],
   "source": [
    "arr3[:,1,1]"
   ]
  },
  {
   "cell_type": "code",
   "execution_count": 16,
   "id": "7bb3c359-34df-48a2-869d-6070bc712051",
   "metadata": {},
   "outputs": [],
   "source": [
    "arr3[:,1,1]=0\n"
   ]
  },
  {
   "cell_type": "code",
   "execution_count": 17,
   "id": "a5ae3b24-fb09-4a9f-b5f2-7fb919c55392",
   "metadata": {},
   "outputs": [
    {
     "data": {
      "text/plain": [
       "array([[[2, 3, 4, 5],\n",
       "        [6, 0, 8, 9]],\n",
       "\n",
       "       [[1, 7, 5, 3],\n",
       "        [2, 0, 2, 1]]])"
      ]
     },
     "execution_count": 17,
     "metadata": {},
     "output_type": "execute_result"
    }
   ],
   "source": [
    "arr3"
   ]
  },
  {
   "cell_type": "raw",
   "id": "8d991ba6-1248-47eb-8c3f-071ee26c45b6",
   "metadata": {},
   "source": [
    "Summary\n",
    "Axis 0 = rows (vertical movement), Axis 1 = columns (horizontal movement)\n",
    "Indexing works as arr[row, column] for 2D arrays and arr[depth, row,\n",
    "column] for 3D arrays\n",
    "Slicing allows extracting subarrays\n",
    "Operations along axes help efficiently manipulate data without loops\n"
   ]
  },
  {
   "cell_type": "code",
   "execution_count": null,
   "id": "7af14625-c8e6-4893-832a-28bd9ed9fcec",
   "metadata": {},
   "outputs": [],
   "source": []
  }
 ],
 "metadata": {
  "kernelspec": {
   "display_name": "Python 3 (ipykernel)",
   "language": "python",
   "name": "python3"
  },
  "language_info": {
   "codemirror_mode": {
    "name": "ipython",
    "version": 3
   },
   "file_extension": ".py",
   "mimetype": "text/x-python",
   "name": "python",
   "nbconvert_exporter": "python",
   "pygments_lexer": "ipython3",
   "version": "3.12.7"
  }
 },
 "nbformat": 4,
 "nbformat_minor": 5
}
