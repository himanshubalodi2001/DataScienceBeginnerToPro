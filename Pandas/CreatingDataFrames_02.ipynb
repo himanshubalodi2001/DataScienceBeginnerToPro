{
 "cells": [
  {
   "cell_type": "raw",
   "id": "87021290-e14f-465d-b2d0-fb138c4e3493",
   "metadata": {},
   "source": [
    "Creating DataFrames"
   ]
  },
  {
   "cell_type": "code",
   "execution_count": 1,
   "id": "4bfed43c-c41b-4b1d-935b-85a784008ade",
   "metadata": {},
   "outputs": [],
   "source": [
    "import numpy as np\n",
    "import pandas as pd"
   ]
  },
  {
   "cell_type": "raw",
   "id": "91169443-07a8-46ca-9204-44dd41c4f084",
   "metadata": {},
   "source": [
    "From Python Lists of list"
   ]
  },
  {
   "cell_type": "code",
   "execution_count": 3,
   "id": "6e6d4711-2150-4d9c-8ed8-ce177c6ede8d",
   "metadata": {},
   "outputs": [],
   "source": [
    "data=[\n",
    "    [\"alice\",25],\n",
    "    [\"Himanshu\",23],\n",
    "    [\"alok\",22]\n",
    "]\n",
    "df=pd.DataFrame(data,columns=[\"Name\",\"Age\"])"
   ]
  },
  {
   "cell_type": "code",
   "execution_count": 4,
   "id": "7a3488ae-d728-4515-8469-d6c7811eeb7a",
   "metadata": {
    "scrolled": true
   },
   "outputs": [
    {
     "name": "stdout",
     "output_type": "stream",
     "text": [
      "       Name  Age\n",
      "0     alice   25\n",
      "1  Himanshu   23\n",
      "2      alok   22\n"
     ]
    }
   ],
   "source": [
    "print(df)"
   ]
  },
  {
   "cell_type": "raw",
   "id": "4db78e8c-76d2-4f95-92fb-8c6dad994f8f",
   "metadata": {},
   "source": [
    "from Dictionary of Lists\n"
   ]
  },
  {
   "cell_type": "code",
   "execution_count": 7,
   "id": "ff86a230-6a5a-4228-b726-e7bb79c72c7a",
   "metadata": {},
   "outputs": [],
   "source": [
    "data={\n",
    "    \"name\":['HImanshu','alok','aman'],\n",
    "    \"age\"  :[24,22,23]\n",
    "}\n",
    "df=pd.DataFrame(data)\n",
    "df.index=[1,2,3]"
   ]
  },
  {
   "cell_type": "code",
   "execution_count": 8,
   "id": "d50cf821-0efb-478b-95dc-c3af870a4b31",
   "metadata": {
    "scrolled": true
   },
   "outputs": [
    {
     "data": {
      "text/html": [
       "<div>\n",
       "<style scoped>\n",
       "    .dataframe tbody tr th:only-of-type {\n",
       "        vertical-align: middle;\n",
       "    }\n",
       "\n",
       "    .dataframe tbody tr th {\n",
       "        vertical-align: top;\n",
       "    }\n",
       "\n",
       "    .dataframe thead th {\n",
       "        text-align: right;\n",
       "    }\n",
       "</style>\n",
       "<table border=\"1\" class=\"dataframe\">\n",
       "  <thead>\n",
       "    <tr style=\"text-align: right;\">\n",
       "      <th></th>\n",
       "      <th>name</th>\n",
       "      <th>age</th>\n",
       "    </tr>\n",
       "  </thead>\n",
       "  <tbody>\n",
       "    <tr>\n",
       "      <th>1</th>\n",
       "      <td>HImanshu</td>\n",
       "      <td>24</td>\n",
       "    </tr>\n",
       "    <tr>\n",
       "      <th>2</th>\n",
       "      <td>alok</td>\n",
       "      <td>22</td>\n",
       "    </tr>\n",
       "    <tr>\n",
       "      <th>3</th>\n",
       "      <td>aman</td>\n",
       "      <td>23</td>\n",
       "    </tr>\n",
       "  </tbody>\n",
       "</table>\n",
       "</div>"
      ],
      "text/plain": [
       "       name  age\n",
       "1  HImanshu   24\n",
       "2      alok   22\n",
       "3      aman   23"
      ]
     },
     "execution_count": 8,
     "metadata": {},
     "output_type": "execute_result"
    }
   ],
   "source": [
    "df"
   ]
  },
  {
   "cell_type": "raw",
   "id": "b42890d7-9981-4c1d-83ef-11a3829a9746",
   "metadata": {},
   "source": [
    "From NumPy Arrays"
   ]
  },
  {
   "cell_type": "code",
   "execution_count": 16,
   "id": "b8043df7-fe6f-4ffe-ac33-6428558b9f00",
   "metadata": {},
   "outputs": [
    {
     "name": "stdout",
     "output_type": "stream",
     "text": [
      "2d array\n"
     ]
    }
   ],
   "source": [
    "arr=np.array([[1,2,],[3,4]])\n",
    "df=pd.DataFrame(arr)\n",
    "print(\"2d array\")\n",
    "df.columns=[\"C0\",\"C1\"]\n",
    "df.index=[\"R0\",\"R1\"]"
   ]
  },
  {
   "cell_type": "code",
   "execution_count": 17,
   "id": "0593825e-38ae-463d-84d5-1e0570a52ea2",
   "metadata": {
    "scrolled": true
   },
   "outputs": [
    {
     "data": {
      "text/html": [
       "<div>\n",
       "<style scoped>\n",
       "    .dataframe tbody tr th:only-of-type {\n",
       "        vertical-align: middle;\n",
       "    }\n",
       "\n",
       "    .dataframe tbody tr th {\n",
       "        vertical-align: top;\n",
       "    }\n",
       "\n",
       "    .dataframe thead th {\n",
       "        text-align: right;\n",
       "    }\n",
       "</style>\n",
       "<table border=\"1\" class=\"dataframe\">\n",
       "  <thead>\n",
       "    <tr style=\"text-align: right;\">\n",
       "      <th></th>\n",
       "      <th>C0</th>\n",
       "      <th>C1</th>\n",
       "    </tr>\n",
       "  </thead>\n",
       "  <tbody>\n",
       "    <tr>\n",
       "      <th>R0</th>\n",
       "      <td>1</td>\n",
       "      <td>2</td>\n",
       "    </tr>\n",
       "    <tr>\n",
       "      <th>R1</th>\n",
       "      <td>3</td>\n",
       "      <td>4</td>\n",
       "    </tr>\n",
       "  </tbody>\n",
       "</table>\n",
       "</div>"
      ],
      "text/plain": [
       "    C0  C1\n",
       "R0   1   2\n",
       "R1   3   4"
      ]
     },
     "execution_count": 17,
     "metadata": {},
     "output_type": "execute_result"
    }
   ],
   "source": [
    "df"
   ]
  },
  {
   "cell_type": "raw",
   "id": "4aac601f-1e36-4581-9e60-66fbe441a0d3",
   "metadata": {},
   "source": [
    "Next we move to new file"
   ]
  },
  {
   "cell_type": "code",
   "execution_count": null,
   "id": "4a288488-753e-4750-99e6-c7278e8de5ac",
   "metadata": {},
   "outputs": [],
   "source": []
  }
 ],
 "metadata": {
  "kernelspec": {
   "display_name": "Python 3 (ipykernel)",
   "language": "python",
   "name": "python3"
  },
  "language_info": {
   "codemirror_mode": {
    "name": "ipython",
    "version": 3
   },
   "file_extension": ".py",
   "mimetype": "text/x-python",
   "name": "python",
   "nbconvert_exporter": "python",
   "pygments_lexer": "ipython3",
   "version": "3.12.7"
  }
 },
 "nbformat": 4,
 "nbformat_minor": 5
}
