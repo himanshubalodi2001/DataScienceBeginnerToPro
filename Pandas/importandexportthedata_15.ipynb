{
 "cells": [
  {
   "cell_type": "code",
   "execution_count": 1,
   "id": "a7bdbd8b-10dc-4f08-b3d6-8a7ec8f2c81a",
   "metadata": {},
   "outputs": [],
   "source": [
    "import pandas as pd"
   ]
  },
  {
   "cell_type": "code",
   "execution_count": 5,
   "id": "1f072917-725c-411c-8e79-2b921bec1e1d",
   "metadata": {},
   "outputs": [],
   "source": [
    "df=pd.read_csv(\"Data1.csv\")"
   ]
  },
  {
   "cell_type": "code",
   "execution_count": 18,
   "id": "ae15219f-7e53-479f-b8ca-7346e070d79f",
   "metadata": {},
   "outputs": [],
   "source": [
    "v1=df.groupby(\"Gender\").filter(lambda x:x[\"Age\"].mean()>14)"
   ]
  },
  {
   "cell_type": "code",
   "execution_count": 19,
   "id": "2491e0b0-3bd7-4d77-a9c7-b6b38efec7ac",
   "metadata": {},
   "outputs": [],
   "source": [
    "v1.to_csv(\"cleaneData.csv\")"
   ]
  },
  {
   "cell_type": "code",
   "execution_count": null,
   "id": "f06f1036-e8f5-4479-81b3-96a1f286f6cd",
   "metadata": {},
   "outputs": [],
   "source": []
  }
 ],
 "metadata": {
  "kernelspec": {
   "display_name": "Python 3 (ipykernel)",
   "language": "python",
   "name": "python3"
  },
  "language_info": {
   "codemirror_mode": {
    "name": "ipython",
    "version": 3
   },
   "file_extension": ".py",
   "mimetype": "text/x-python",
   "name": "python",
   "nbconvert_exporter": "python",
   "pygments_lexer": "ipython3",
   "version": "3.12.7"
  }
 },
 "nbformat": 4,
 "nbformat_minor": 5
}
