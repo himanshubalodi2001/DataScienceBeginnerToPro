{
 "cells": [
  {
   "cell_type": "raw",
   "id": "13198270-7018-4e1f-b206-fb0d2d4c6de4",
   "metadata": {},
   "source": [
    "Pandas is a powerful, open-source Python library used for data manipulation,\n",
    "cleaning, and analysis. It provides two main data structures:\n",
    "Series: A one-dimensional labeled array\n",
    "DataFrame: A two-dimensional labeled table (like an Excel sheet or SQL table)"
   ]
  },
  {
   "cell_type": "markdown",
   "id": "3be2f90c-fd7a-41b1-a208-3688e7a32781",
   "metadata": {},
   "source": [
    "Series — 1D Labeled Array"
   ]
  },
  {
   "cell_type": "code",
   "execution_count": 3,
   "id": "935858e3-ad89-4fdf-8dd4-4dc8b09e1bff",
   "metadata": {},
   "outputs": [
    {
     "data": {
      "text/plain": [
       "0    10\n",
       "1    20\n",
       "2    30\n",
       "3    40\n",
       "4    50\n",
       "dtype: int64"
      ]
     },
     "execution_count": 3,
     "metadata": {},
     "output_type": "execute_result"
    }
   ],
   "source": [
    "import pandas as pd\n",
    "s=pd.Series([10,20,30,40,50])\n",
    "s"
   ]
  },
  {
   "cell_type": "markdown",
   "id": "1b5974ff-2108-4644-9b2c-3ee8663917f5",
   "metadata": {},
   "source": [
    "if i have to make a coloms a heading then"
   ]
  },
  {
   "cell_type": "code",
   "execution_count": 7,
   "id": "5ac6d345-d551-41be-bbc3-d76a749ea4b9",
   "metadata": {},
   "outputs": [],
   "source": [
    "s2=pd.Series([80,90,100],index=[\"A\",\"b\",\"c\"])"
   ]
  },
  {
   "cell_type": "code",
   "execution_count": 8,
   "id": "45805ae6-f0fd-4c2a-b4a8-d244faa05704",
   "metadata": {},
   "outputs": [
    {
     "data": {
      "text/plain": [
       "A     80\n",
       "b     90\n",
       "c    100\n",
       "dtype: int64"
      ]
     },
     "execution_count": 8,
     "metadata": {},
     "output_type": "execute_result"
    }
   ],
   "source": [
    "s2\n"
   ]
  },
  {
   "cell_type": "raw",
   "id": "1bfeb53d-05cf-4c23-b871-cbd1ff2b9d5c",
   "metadata": {},
   "source": [
    "DataFrame — 2D Labeled Table"
   ]
  },
  {
   "cell_type": "code",
   "execution_count": 9,
   "id": "372ac813-a9c4-47aa-9d4c-fcf573593d82",
   "metadata": {},
   "outputs": [],
   "source": [
    "data={\n",
    "    \"name\":[\"Himanshu\",\"rohan\",\"aakash\",\"aanchal\"],\n",
    "    \"section\":[\"a2\",\"f2\",\"g2\",\"c2\"],\n",
    "     \"age\":[24,22,21,20]\n",
    "}"
   ]
  },
  {
   "cell_type": "code",
   "execution_count": 10,
   "id": "b06abc05-df0c-4ab7-9ad8-b8264554e881",
   "metadata": {},
   "outputs": [
    {
     "name": "stdout",
     "output_type": "stream",
     "text": [
      "       name section  age\n",
      "0  Himanshu      a2   24\n",
      "1     rohan      f2   22\n",
      "2    aakash      g2   21\n",
      "3   aanchal      c2   20\n"
     ]
    }
   ],
   "source": [
    "df=pd.DataFrame(data)\n",
    "print(df)"
   ]
  },
  {
   "cell_type": "code",
   "execution_count": null,
   "id": "9ecb23f4-d8f4-4779-82fe-bc5e280937fc",
   "metadata": {},
   "outputs": [],
   "source": []
  },
  {
   "cell_type": "markdown",
   "id": "e90f1ae8-0d32-4976-8749-485b3601cbda",
   "metadata": {},
   "source": [
    "Index and Labels"
   ]
  },
  {
   "cell_type": "code",
   "execution_count": 11,
   "id": "2e2d8a9b-7620-42d0-b0fc-66f30920226f",
   "metadata": {},
   "outputs": [],
   "source": [
    "data=[\n",
    "    [\"Himanshu\",\"balodi\"]\n",
    "]\n",
    "df=pd.DataFrame(data)"
   ]
  },
  {
   "cell_type": "code",
   "execution_count": 12,
   "id": "f7c2fe4c-32ab-4149-b296-6c9994da7439",
   "metadata": {},
   "outputs": [],
   "source": [
    "df.index=[\"name\"]"
   ]
  },
  {
   "cell_type": "code",
   "execution_count": 13,
   "id": "c25fd54e-1b6a-4565-85e5-bb1e456778b6",
   "metadata": {},
   "outputs": [
    {
     "data": {
      "text/html": [
       "<div>\n",
       "<style scoped>\n",
       "    .dataframe tbody tr th:only-of-type {\n",
       "        vertical-align: middle;\n",
       "    }\n",
       "\n",
       "    .dataframe tbody tr th {\n",
       "        vertical-align: top;\n",
       "    }\n",
       "\n",
       "    .dataframe thead th {\n",
       "        text-align: right;\n",
       "    }\n",
       "</style>\n",
       "<table border=\"1\" class=\"dataframe\">\n",
       "  <thead>\n",
       "    <tr style=\"text-align: right;\">\n",
       "      <th></th>\n",
       "      <th>0</th>\n",
       "      <th>1</th>\n",
       "    </tr>\n",
       "  </thead>\n",
       "  <tbody>\n",
       "    <tr>\n",
       "      <th>name</th>\n",
       "      <td>Himanshu</td>\n",
       "      <td>balodi</td>\n",
       "    </tr>\n",
       "  </tbody>\n",
       "</table>\n",
       "</div>"
      ],
      "text/plain": [
       "             0       1\n",
       "name  Himanshu  balodi"
      ]
     },
     "execution_count": 13,
     "metadata": {},
     "output_type": "execute_result"
    }
   ],
   "source": [
    "df"
   ]
  },
  {
   "cell_type": "code",
   "execution_count": 17,
   "id": "e2c7d8f4-ca48-4625-a411-6325fc6032d5",
   "metadata": {},
   "outputs": [],
   "source": [
    "df.columns=[\"name\",\"caste\"]"
   ]
  },
  {
   "cell_type": "code",
   "execution_count": 18,
   "id": "acfbc1de-e79d-4ac4-9403-822e2634f320",
   "metadata": {},
   "outputs": [
    {
     "data": {
      "text/html": [
       "<div>\n",
       "<style scoped>\n",
       "    .dataframe tbody tr th:only-of-type {\n",
       "        vertical-align: middle;\n",
       "    }\n",
       "\n",
       "    .dataframe tbody tr th {\n",
       "        vertical-align: top;\n",
       "    }\n",
       "\n",
       "    .dataframe thead th {\n",
       "        text-align: right;\n",
       "    }\n",
       "</style>\n",
       "<table border=\"1\" class=\"dataframe\">\n",
       "  <thead>\n",
       "    <tr style=\"text-align: right;\">\n",
       "      <th></th>\n",
       "      <th>name</th>\n",
       "      <th>caste</th>\n",
       "    </tr>\n",
       "  </thead>\n",
       "  <tbody>\n",
       "    <tr>\n",
       "      <th>name</th>\n",
       "      <td>Himanshu</td>\n",
       "      <td>balodi</td>\n",
       "    </tr>\n",
       "  </tbody>\n",
       "</table>\n",
       "</div>"
      ],
      "text/plain": [
       "          name   caste\n",
       "name  Himanshu  balodi"
      ]
     },
     "execution_count": 18,
     "metadata": {},
     "output_type": "execute_result"
    }
   ],
   "source": [
    "df"
   ]
  },
  {
   "cell_type": "raw",
   "id": "90a1829c-34ef-4973-a4f2-46daf78a81a1",
   "metadata": {},
   "source": [
    "Why Learn These Well?\n",
    "Most Pandas operations are built on these foundations:\n",
    "Selection\n",
    "Filtering\n",
    "Merging\n",
    "Aggregation\n",
    "Understanding Series & DataFrames will make everything else easier.\n"
   ]
  },
  {
   "cell_type": "raw",
   "id": "4d817df0-9c50-444f-ab3a-e25963b8ff20",
   "metadata": {},
   "source": [
    "Summary\n",
    "Series = 1D array with labels\n",
    "DataFrame = 2D table with rows + columns"
   ]
  },
  {
   "cell_type": "code",
   "execution_count": null,
   "id": "24360a08-a347-4e3e-ac8c-3055cf88c23c",
   "metadata": {},
   "outputs": [],
   "source": []
  }
 ],
 "metadata": {
  "kernelspec": {
   "display_name": "Python 3 (ipykernel)",
   "language": "python",
   "name": "python3"
  },
  "language_info": {
   "codemirror_mode": {
    "name": "ipython",
    "version": 3
   },
   "file_extension": ".py",
   "mimetype": "text/x-python",
   "name": "python",
   "nbconvert_exporter": "python",
   "pygments_lexer": "ipython3",
   "version": "3.12.7"
  }
 },
 "nbformat": 4,
 "nbformat_minor": 5
}
