{
 "cells": [
  {
   "cell_type": "code",
   "execution_count": 24,
   "id": "cb1a179c-d29a-4b91-b228-af982de3e4f5",
   "metadata": {},
   "outputs": [],
   "source": [
    "table=[]"
   ]
  },
  {
   "cell_type": "code",
   "execution_count": 30,
   "id": "c449ed4b-c6fb-4a26-977e-00f3b13fc8f5",
   "metadata": {},
   "outputs": [
    {
     "name": "stdout",
     "output_type": "stream",
     "text": [
      "2x1 = 2\n",
      "2x2 = 4\n",
      "2x3 = 6\n",
      "2x4 = 8\n",
      "2x5 = 10\n",
      "2x6 = 12\n",
      "2x7 = 14\n",
      "2x8 = 16\n",
      "2x9 = 18\n",
      "2x10 = 20\n"
     ]
    }
   ],
   "source": [
    "for i in range(1,11):\n",
    "    print(f\"2x{i} = {2*i}\")\n",
    "    table.append(2*i)"
   ]
  },
  {
   "cell_type": "code",
   "execution_count": 32,
   "id": "8f38828e-a664-464a-98a4-753d449a9997",
   "metadata": {},
   "outputs": [
    {
     "data": {
      "text/plain": [
       "[2, 4, 6, 8, 10, 12, 14, 16, 18, 20]"
      ]
     },
     "execution_count": 32,
     "metadata": {},
     "output_type": "execute_result"
    }
   ],
   "source": [
    "table"
   ]
  },
  {
   "cell_type": "markdown",
   "id": "f939fcac-2aac-4483-b50f-29302411fa36",
   "metadata": {},
   "source": [
    "now we have better option to write this with list comprehension"
   ]
  },
  {
   "cell_type": "code",
   "execution_count": 33,
   "id": "11cec4bb-96f9-47d2-bb3c-74ac0c2ceb32",
   "metadata": {},
   "outputs": [],
   "source": [
    "t=[2*i for i in range(1,11)] # we use like this"
   ]
  },
  {
   "cell_type": "code",
   "execution_count": 35,
   "id": "88c0bb7a-7f92-409c-ab51-d4bc2175aace",
   "metadata": {},
   "outputs": [
    {
     "data": {
      "text/plain": [
       "[2, 4, 6, 8, 10, 12, 14, 16, 18, 20]"
      ]
     },
     "execution_count": 35,
     "metadata": {},
     "output_type": "execute_result"
    }
   ],
   "source": [
    "t"
   ]
  },
  {
   "cell_type": "code",
   "execution_count": 37,
   "id": "030bad1e-c729-40c4-99cd-0ca952841df9",
   "metadata": {},
   "outputs": [],
   "source": [
    "t1=[2*i for i in range(1,11) if i%2==0] # we can use if  condition to it"
   ]
  },
  {
   "cell_type": "code",
   "execution_count": 38,
   "id": "2cbc2399-0de9-4859-846b-d6c0feee109c",
   "metadata": {},
   "outputs": [
    {
     "data": {
      "text/plain": [
       "[4, 8, 12, 16, 20]"
      ]
     },
     "execution_count": 38,
     "metadata": {},
     "output_type": "execute_result"
    }
   ],
   "source": [
    "t1"
   ]
  },
  {
   "cell_type": "code",
   "execution_count": 40,
   "id": "90d6b616-ae84-4dd4-b8a9-e9c2d4e36e5c",
   "metadata": {},
   "outputs": [],
   "source": [
    "num=[\"even\" if i%2==0 else \"odd\" for i in range(5)] #how we use if else as compregension"
   ]
  },
  {
   "cell_type": "code",
   "execution_count": 41,
   "id": "0cdfbb1e-4378-4f8b-8bb3-01fd39e700af",
   "metadata": {},
   "outputs": [
    {
     "data": {
      "text/plain": [
       "['even', 'odd', 'even', 'odd', 'even']"
      ]
     },
     "execution_count": 41,
     "metadata": {},
     "output_type": "execute_result"
    }
   ],
   "source": [
    "num"
   ]
  },
  {
   "cell_type": "code",
   "execution_count": null,
   "id": "bf647298-9ae4-4a3d-a606-a881e2916815",
   "metadata": {},
   "outputs": [],
   "source": []
  }
 ],
 "metadata": {
  "kernelspec": {
   "display_name": "Python 3 (ipykernel)",
   "language": "python",
   "name": "python3"
  },
  "language_info": {
   "codemirror_mode": {
    "name": "ipython",
    "version": 3
   },
   "file_extension": ".py",
   "mimetype": "text/x-python",
   "name": "python",
   "nbconvert_exporter": "python",
   "pygments_lexer": "ipython3",
   "version": "3.12.7"
  }
 },
 "nbformat": 4,
 "nbformat_minor": 5
}
