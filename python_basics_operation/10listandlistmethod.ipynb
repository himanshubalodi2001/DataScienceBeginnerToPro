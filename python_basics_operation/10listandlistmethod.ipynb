{
 "cells": [
  {
   "cell_type": "code",
   "execution_count": 1,
   "id": "fec4dc5d-f5ee-45d0-902a-27df06fd997d",
   "metadata": {},
   "outputs": [],
   "source": [
    "l=[5,3,2,4,5,6]"
   ]
  },
  {
   "cell_type": "code",
   "execution_count": 2,
   "id": "d6bfdc36-c765-4069-af21-8473f762b7fd",
   "metadata": {},
   "outputs": [
    {
     "data": {
      "text/plain": [
       "3"
      ]
     },
     "execution_count": 2,
     "metadata": {},
     "output_type": "execute_result"
    }
   ],
   "source": [
    "l[1]"
   ]
  },
  {
   "cell_type": "code",
   "execution_count": 3,
   "id": "534ce32e-112b-4196-a831-1f20383cee00",
   "metadata": {},
   "outputs": [
    {
     "data": {
      "text/plain": [
       "[5, 3, 2, 4, 5, 6]"
      ]
     },
     "execution_count": 3,
     "metadata": {},
     "output_type": "execute_result"
    }
   ],
   "source": [
    "l"
   ]
  },
  {
   "cell_type": "code",
   "execution_count": 4,
   "id": "d0a02a5c-27c6-49dd-a75a-5ed4aec5b970",
   "metadata": {},
   "outputs": [],
   "source": [
    "l.append(2)\n"
   ]
  },
  {
   "cell_type": "code",
   "execution_count": 5,
   "id": "6a7a54c9-6b23-4aa0-a91b-ee4281590aea",
   "metadata": {},
   "outputs": [
    {
     "data": {
      "text/plain": [
       "[5, 3, 2, 4, 5, 6, 2]"
      ]
     },
     "execution_count": 5,
     "metadata": {},
     "output_type": "execute_result"
    }
   ],
   "source": [
    "l"
   ]
  },
  {
   "cell_type": "code",
   "execution_count": 6,
   "id": "c58c6ee6-fe8d-4823-b29d-2ba40825e29b",
   "metadata": {},
   "outputs": [],
   "source": [
    "l2=[1,2,3,45,6]"
   ]
  },
  {
   "cell_type": "code",
   "execution_count": 7,
   "id": "1ea8ac12-ac47-498e-adb3-7de2ddcbddff",
   "metadata": {},
   "outputs": [],
   "source": [
    "l.extend(l2)"
   ]
  },
  {
   "cell_type": "code",
   "execution_count": 8,
   "id": "a34d2712-930d-4a8b-9b66-2cbbabbf6ea5",
   "metadata": {},
   "outputs": [
    {
     "data": {
      "text/plain": [
       "3"
      ]
     },
     "execution_count": 8,
     "metadata": {},
     "output_type": "execute_result"
    }
   ],
   "source": [
    "l.index(4)\n"
   ]
  },
  {
   "cell_type": "code",
   "execution_count": 9,
   "id": "25b49f84-ca22-45e9-98d8-1a181d725002",
   "metadata": {},
   "outputs": [
    {
     "data": {
      "text/plain": [
       "[5, 3, 2, 4, 5, 6, 2, 1, 2, 3, 45, 6]"
      ]
     },
     "execution_count": 9,
     "metadata": {},
     "output_type": "execute_result"
    }
   ],
   "source": [
    "l"
   ]
  },
  {
   "cell_type": "code",
   "execution_count": 10,
   "id": "6b43f3ab-4566-442f-a0c5-4ba0f99e530b",
   "metadata": {},
   "outputs": [],
   "source": [
    "l.reverse()"
   ]
  },
  {
   "cell_type": "code",
   "execution_count": 11,
   "id": "6321d45e-d479-42e2-8d30-13ebf4d12319",
   "metadata": {},
   "outputs": [
    {
     "data": {
      "text/plain": [
       "[6, 45, 3, 2, 1, 2, 6, 5, 4, 2, 3, 5]"
      ]
     },
     "execution_count": 11,
     "metadata": {},
     "output_type": "execute_result"
    }
   ],
   "source": [
    "l"
   ]
  },
  {
   "cell_type": "code",
   "execution_count": 12,
   "id": "cff3e1fd-d2e6-4cf6-b427-f510776a08cc",
   "metadata": {},
   "outputs": [],
   "source": [
    "l.sort()"
   ]
  },
  {
   "cell_type": "code",
   "execution_count": 13,
   "id": "ab654285-6123-43a2-b40a-8764c95febb7",
   "metadata": {},
   "outputs": [
    {
     "data": {
      "text/plain": [
       "[1, 2, 2, 2, 3, 3, 4, 5, 5, 6, 6, 45]"
      ]
     },
     "execution_count": 13,
     "metadata": {},
     "output_type": "execute_result"
    }
   ],
   "source": [
    "l\n"
   ]
  },
  {
   "cell_type": "code",
   "execution_count": 14,
   "id": "8a8befd4-83f6-4c41-bc4d-8306e27f0a8c",
   "metadata": {},
   "outputs": [
    {
     "data": {
      "text/plain": [
       "[1, 2, 2, 2, 3, 3, 4, 5, 5, 6, 6, 45]"
      ]
     },
     "execution_count": 14,
     "metadata": {},
     "output_type": "execute_result"
    }
   ],
   "source": [
    "l"
   ]
  },
  {
   "cell_type": "code",
   "execution_count": 15,
   "id": "cd049654-31b0-490b-a0c9-939eb1ceea51",
   "metadata": {},
   "outputs": [],
   "source": [
    "y=[1,2,3,True,False,\"himu\"]"
   ]
  },
  {
   "cell_type": "code",
   "execution_count": 17,
   "id": "d24b0f95-6316-4d6b-868f-cbe495230126",
   "metadata": {},
   "outputs": [
    {
     "data": {
      "text/plain": [
       "'himu'"
      ]
     },
     "execution_count": 17,
     "metadata": {},
     "output_type": "execute_result"
    }
   ],
   "source": [
    "y[5]"
   ]
  },
  {
   "cell_type": "code",
   "execution_count": 20,
   "id": "c0645ecb-4d94-48a7-bde4-534d701591ac",
   "metadata": {},
   "outputs": [
    {
     "name": "stdout",
     "output_type": "stream",
     "text": [
      "NO\n"
     ]
    }
   ],
   "source": [
    "if 100 in l:\n",
    "    print(\"yes\")\n",
    "else:\n",
    "    print(\"NO\")\n",
    "    "
   ]
  },
  {
   "cell_type": "code",
   "execution_count": 21,
   "id": "d92274cf-b5ae-493f-9449-739eb5ca660b",
   "metadata": {},
   "outputs": [],
   "source": [
    "s=\"himanshu-akshay-alok-aman-ritesh\""
   ]
  },
  {
   "cell_type": "code",
   "execution_count": 23,
   "id": "809f28e9-1fab-45e5-bd97-737dc70a5d85",
   "metadata": {},
   "outputs": [
    {
     "data": {
      "text/plain": [
       "['himanshu', 'akshay', 'alok', 'aman', 'ritesh']"
      ]
     },
     "execution_count": 23,
     "metadata": {},
     "output_type": "execute_result"
    }
   ],
   "source": [
    "s.split(\"-\")"
   ]
  },
  {
   "cell_type": "code",
   "execution_count": null,
   "id": "0a63950b-bc0b-4a8b-8cc8-2f18c17ecece",
   "metadata": {},
   "outputs": [],
   "source": []
  }
 ],
 "metadata": {
  "kernelspec": {
   "display_name": "Python 3 (ipykernel)",
   "language": "python",
   "name": "python3"
  },
  "language_info": {
   "codemirror_mode": {
    "name": "ipython",
    "version": 3
   },
   "file_extension": ".py",
   "mimetype": "text/x-python",
   "name": "python",
   "nbconvert_exporter": "python",
   "pygments_lexer": "ipython3",
   "version": "3.12.7"
  }
 },
 "nbformat": 4,
 "nbformat_minor": 5
}
