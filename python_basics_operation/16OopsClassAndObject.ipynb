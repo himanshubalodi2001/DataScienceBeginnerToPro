{
 "cells": [
  {
   "cell_type": "code",
   "execution_count": 1,
   "id": "9d2f1229-d400-409d-a28c-19ab81573608",
   "metadata": {},
   "outputs": [],
   "source": [
    "class employee:\n",
    "    company=\"APPLE\"\n",
    "    def __init__(self,name,salary):#constructor which take a prameters and self \n",
    "        self.name=name\n",
    "        self.salary=salary\n",
    "    def selfdetail(self): #normal function take only self\n",
    "        print(f\"the company of {self.name} is {self.company} with a salary of ${self.salary} \")\n",
    "        "
   ]
  },
  {
   "cell_type": "code",
   "execution_count": 2,
   "id": "cb14443b-0866-4306-8c5e-d6be349ad821",
   "metadata": {},
   "outputs": [],
   "source": [
    "obj=employee(\"Himanshu balodi\",150000)"
   ]
  },
  {
   "cell_type": "code",
   "execution_count": 3,
   "id": "37c2eef2-b84c-43d2-861f-365552221b26",
   "metadata": {},
   "outputs": [
    {
     "name": "stdout",
     "output_type": "stream",
     "text": [
      "the company of Himanshu balodi is APPLE with a salary of $150000 \n"
     ]
    }
   ],
   "source": [
    "obj.selfdetail()"
   ]
  },
  {
   "cell_type": "code",
   "execution_count": 4,
   "id": "a278f13d-8058-44e8-b248-a121f4b9aaf4",
   "metadata": {},
   "outputs": [],
   "source": [
    "#thats how we have to do class and object in basics"
   ]
  },
  {
   "cell_type": "markdown",
   "id": "a1233e8b-2c4e-4856-b6df-622cdd75c876",
   "metadata": {},
   "source": [
    "so now we have to do a code without self"
   ]
  },
  {
   "cell_type": "code",
   "execution_count": 5,
   "id": "efff4025-72a2-43f5-a5a7-8b668125ceca",
   "metadata": {},
   "outputs": [],
   "source": [
    "class employee:\n",
    "    company=\"APPLE\"\n",
    "    def __init__(self,name,salary):#constructor which take a prameters and self \n",
    "        self.name=name\n",
    "        self.salary=salary  \n",
    "    def selfdetail(self): #normal function take only self\n",
    "        print(f\"the company of {self.name} is {self.company} with a salary of ${self.salary} \")\n",
    "    @staticmethod\n",
    "    def newdetain():\n",
    "        print(f\"time is going \")\n",
    "    @classmethod\n",
    "    def nonclass(cls):\n",
    "        print(f\"the company is {cls.company}\")"
   ]
  },
  {
   "cell_type": "code",
   "execution_count": 6,
   "id": "81ceb5e6-b1e1-447e-a768-61dfe32e95e3",
   "metadata": {},
   "outputs": [],
   "source": [
    "obj=employee(\"Himanshu balodi\",500000)"
   ]
  },
  {
   "cell_type": "code",
   "execution_count": 7,
   "id": "aa1e4e05-2920-4f1c-ba3c-2fe8a70477ea",
   "metadata": {},
   "outputs": [
    {
     "name": "stdout",
     "output_type": "stream",
     "text": [
      "the company of Himanshu balodi is APPLE with a salary of $500000 \n",
      "time is going \n",
      "the company is APPLE\n"
     ]
    }
   ],
   "source": [
    "obj.selfdetail()\n",
    "obj.newdetain()\n",
    "obj.nonclass()"
   ]
  },
  {
   "cell_type": "code",
   "execution_count": null,
   "id": "12d5b397-306c-4a2e-9bb3-70969dc5c531",
   "metadata": {},
   "outputs": [],
   "source": []
  }
 ],
 "metadata": {
  "kernelspec": {
   "display_name": "Python 3 (ipykernel)",
   "language": "python",
   "name": "python3"
  },
  "language_info": {
   "codemirror_mode": {
    "name": "ipython",
    "version": 3
   },
   "file_extension": ".py",
   "mimetype": "text/x-python",
   "name": "python",
   "nbconvert_exporter": "python",
   "pygments_lexer": "ipython3",
   "version": "3.12.7"
  }
 },
 "nbformat": 4,
 "nbformat_minor": 5
}
