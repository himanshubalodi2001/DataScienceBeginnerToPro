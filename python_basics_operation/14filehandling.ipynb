{
 "cells": [
  {
   "cell_type": "code",
   "execution_count": 1,
   "id": "9e912673-c0cd-4bf8-8c3e-b21725f043b3",
   "metadata": {},
   "outputs": [],
   "source": [
    "#read write manipulate"
   ]
  },
  {
   "cell_type": "code",
   "execution_count": 5,
   "id": "4bceeec5-9963-4b12-af14-cb8cb8e8d15f",
   "metadata": {},
   "outputs": [
    {
     "data": {
      "text/plain": [
       "'i am himanshu balodi i am big broSSS'"
      ]
     },
     "execution_count": 5,
     "metadata": {},
     "output_type": "execute_result"
    }
   ],
   "source": [
    "f=open(\"himu.txt\",\"r\")\n",
    "f.read()"
   ]
  },
  {
   "cell_type": "code",
   "execution_count": 6,
   "id": "51f90c62-bc3f-4e28-bc3f-66fe51934583",
   "metadata": {},
   "outputs": [],
   "source": [
    "s=\"this is as nice\""
   ]
  },
  {
   "cell_type": "code",
   "execution_count": 7,
   "id": "eea7d7b1-8b5b-4eb4-a1e6-8d612da6c4b2",
   "metadata": {},
   "outputs": [],
   "source": [
    "f.close()"
   ]
  },
  {
   "cell_type": "code",
   "execution_count": 14,
   "id": "f5fd3668-6ba2-4c31-89a4-21428579b5a4",
   "metadata": {},
   "outputs": [],
   "source": [
    "fam=open(\"himanshu.txt\",\"w\")"
   ]
  },
  {
   "cell_type": "code",
   "execution_count": 23,
   "id": "bc3cccde-3c52-422d-a7b2-d20278013b4c",
   "metadata": {},
   "outputs": [],
   "source": [
    "fam.write(s)\n",
    "fam.close()\n"
   ]
  },
  {
   "cell_type": "code",
   "execution_count": 17,
   "id": "c3ca7416-c887-458e-a8a9-551a85fcde05",
   "metadata": {},
   "outputs": [],
   "source": [
    "import os"
   ]
  },
  {
   "cell_type": "code",
   "execution_count": 26,
   "id": "aade531f-c4aa-4c95-8bae-19fdade1de63",
   "metadata": {},
   "outputs": [
    {
     "name": "stdout",
     "output_type": "stream",
     "text": [
      "not exist\n"
     ]
    }
   ],
   "source": [
    "if os.path.exists(\"himu.txt\"):\n",
    "    os.remove(\"himu.txt\")\n",
    "    print(\"done\")\n",
    "else:\n",
    "    print(\"not exist\")"
   ]
  },
  {
   "cell_type": "code",
   "execution_count": null,
   "id": "a4791d79-d725-468b-82bf-0e3d4a5a51f6",
   "metadata": {},
   "outputs": [],
   "source": []
  }
 ],
 "metadata": {
  "kernelspec": {
   "display_name": "Python 3 (ipykernel)",
   "language": "python",
   "name": "python3"
  },
  "language_info": {
   "codemirror_mode": {
    "name": "ipython",
    "version": 3
   },
   "file_extension": ".py",
   "mimetype": "text/x-python",
   "name": "python",
   "nbconvert_exporter": "python",
   "pygments_lexer": "ipython3",
   "version": "3.12.7"
  }
 },
 "nbformat": 4,
 "nbformat_minor": 5
}
