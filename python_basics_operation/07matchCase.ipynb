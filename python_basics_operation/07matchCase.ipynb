{
 "cells": [
  {
   "cell_type": "code",
   "execution_count": 1,
   "id": "1e06dd1a-6a24-4642-b1b5-622ee90cad96",
   "metadata": {},
   "outputs": [],
   "source": [
    "def himu():\n",
    "    print(\"guess between 20 or 30\")\n",
    "    a=int(input(\"enter the number\"))\n",
    "    match a:\n",
    "        case 20:\n",
    "            return \"no\"\n",
    "        case 30:\n",
    "            return \"yes\"\n",
    "        case _:\n",
    "            return \"try again!\"\n"
   ]
  },
  {
   "cell_type": "code",
   "execution_count": 3,
   "id": "b24b7fec-db32-4875-b1eb-d74e27b32d04",
   "metadata": {},
   "outputs": [
    {
     "name": "stdout",
     "output_type": "stream",
     "text": [
      "guess between 20 or 30\n"
     ]
    },
    {
     "name": "stdin",
     "output_type": "stream",
     "text": [
      "enter the number 30\n"
     ]
    },
    {
     "data": {
      "text/plain": [
       "'yes'"
      ]
     },
     "execution_count": 3,
     "metadata": {},
     "output_type": "execute_result"
    }
   ],
   "source": [
    "himu()"
   ]
  },
  {
   "cell_type": "code",
   "execution_count": null,
   "id": "487ef016-8fb2-4a9f-b82d-7e71c87e60c8",
   "metadata": {},
   "outputs": [],
   "source": []
  }
 ],
 "metadata": {
  "kernelspec": {
   "display_name": "Python 3 (ipykernel)",
   "language": "python",
   "name": "python3"
  },
  "language_info": {
   "codemirror_mode": {
    "name": "ipython",
    "version": 3
   },
   "file_extension": ".py",
   "mimetype": "text/x-python",
   "name": "python",
   "nbconvert_exporter": "python",
   "pygments_lexer": "ipython3",
   "version": "3.12.7"
  }
 },
 "nbformat": 4,
 "nbformat_minor": 5
}
