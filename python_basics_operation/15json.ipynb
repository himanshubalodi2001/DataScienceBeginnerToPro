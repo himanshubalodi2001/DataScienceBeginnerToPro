{
 "cells": [
  {
   "cell_type": "code",
   "execution_count": 1,
   "id": "22e27f86-e952-461d-92c7-1b731c2d7193",
   "metadata": {},
   "outputs": [
    {
     "name": "stdout",
     "output_type": "stream",
     "text": [
      "{\"name\": \"Alice\", \"age\": 25, \"city\": \"New York\"}\n"
     ]
    }
   ],
   "source": [
    "import json\n",
    "data = {\"name\": \"Alice\", \"age\": 25, \"city\": \"New York\"}\n",
    "json_string = json.dumps(data)\n",
    "print(json_string) # Output: {\"name\": \"Alice\", \"age\": 25, \"city\": \"New York\"print(type(json_string)) # <class 'str'>"
   ]
  },
  {
   "cell_type": "code",
   "execution_count": 2,
   "id": "a4a18fd6-2ed1-4c4b-abd7-1d6e538106fe",
   "metadata": {},
   "outputs": [
    {
     "data": {
      "text/plain": [
       "str"
      ]
     },
     "execution_count": 2,
     "metadata": {},
     "output_type": "execute_result"
    }
   ],
   "source": [
    "type(json_string)"
   ]
  },
  {
   "cell_type": "code",
   "execution_count": 3,
   "id": "b13aa724-f253-4c28-8ca7-03c07a638568",
   "metadata": {},
   "outputs": [
    {
     "data": {
      "text/plain": [
       "dict"
      ]
     },
     "execution_count": 3,
     "metadata": {},
     "output_type": "execute_result"
    }
   ],
   "source": [
    "type(data)"
   ]
  },
  {
   "cell_type": "code",
   "execution_count": 9,
   "id": "1fe5a328-3a2f-4d20-a1c1-42e6ddd78aef",
   "metadata": {},
   "outputs": [],
   "source": [
    "data={\"name\":\"himanshu\",\"age\":20}"
   ]
  },
  {
   "cell_type": "code",
   "execution_count": 10,
   "id": "dae43127-6ed3-4f4e-8c6f-7e9154fc81f5",
   "metadata": {},
   "outputs": [],
   "source": [
    "json_str=json.dumps(data)"
   ]
  },
  {
   "cell_type": "code",
   "execution_count": 12,
   "id": "73e55038-9ccb-4e06-924b-7d34d86fb51c",
   "metadata": {},
   "outputs": [
    {
     "data": {
      "text/plain": [
       "'{\"name\": \"himanshu\", \"age\": 20}'"
      ]
     },
     "execution_count": 12,
     "metadata": {},
     "output_type": "execute_result"
    }
   ],
   "source": [
    "json_str"
   ]
  },
  {
   "cell_type": "code",
   "execution_count": 13,
   "id": "76b17592-0d4c-4248-87a0-b882f3403ee7",
   "metadata": {},
   "outputs": [],
   "source": [
    "kyu_json=json.loads(json_str)"
   ]
  },
  {
   "cell_type": "code",
   "execution_count": 14,
   "id": "9956f927-710b-466b-931d-520db6ede106",
   "metadata": {},
   "outputs": [
    {
     "data": {
      "text/plain": [
       "{'name': 'himanshu', 'age': 20}"
      ]
     },
     "execution_count": 14,
     "metadata": {},
     "output_type": "execute_result"
    }
   ],
   "source": [
    "kyu_json\n"
   ]
  },
  {
   "cell_type": "code",
   "execution_count": 15,
   "id": "2c4a5a45-d0f3-4e18-94ff-86f231543679",
   "metadata": {},
   "outputs": [
    {
     "data": {
      "text/plain": [
       "dict"
      ]
     },
     "execution_count": 15,
     "metadata": {},
     "output_type": "execute_result"
    }
   ],
   "source": [
    "type(kyu_json)"
   ]
  },
  {
   "cell_type": "code",
   "execution_count": 16,
   "id": "d4773a20-b586-45a6-97f0-9a52706dfe4b",
   "metadata": {},
   "outputs": [],
   "source": [
    "data1={\"name\":\"aman\",\"age\":24,\"course\":\"data science\"}"
   ]
  },
  {
   "cell_type": "code",
   "execution_count": 19,
   "id": "2f151379-fc00-41bd-8eaf-c2167c666274",
   "metadata": {},
   "outputs": [],
   "source": [
    "with open(\"data.json\",\"w\") as file:\n",
    "    json.dump(data1,file)"
   ]
  },
  {
   "cell_type": "code",
   "execution_count": 20,
   "id": "e6098e92-d078-4351-8462-c0f8f0ee5c9b",
   "metadata": {},
   "outputs": [],
   "source": [
    "with open(\"data.json\",\"r\") as file:\n",
    "    json.load(file)"
   ]
  },
  {
   "cell_type": "code",
   "execution_count": null,
   "id": "6094d4a6-27da-4139-9e46-ca15b07a4fde",
   "metadata": {},
   "outputs": [],
   "source": []
  }
 ],
 "metadata": {
  "kernelspec": {
   "display_name": "Python 3 (ipykernel)",
   "language": "python",
   "name": "python3"
  },
  "language_info": {
   "codemirror_mode": {
    "name": "ipython",
    "version": 3
   },
   "file_extension": ".py",
   "mimetype": "text/x-python",
   "name": "python",
   "nbconvert_exporter": "python",
   "pygments_lexer": "ipython3",
   "version": "3.12.7"
  }
 },
 "nbformat": 4,
 "nbformat_minor": 5
}
