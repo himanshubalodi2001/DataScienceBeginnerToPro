{
 "cells": [
  {
   "cell_type": "code",
   "execution_count": null,
   "id": "a7044638-4437-4f97-8b60-a32d7070edbe",
   "metadata": {},
   "outputs": [],
   "source": [
    "a=5"
   ]
  },
  {
   "cell_type": "code",
   "execution_count": null,
   "id": "ad2c5043-bb6c-4021-b7b9-6127b8ff3924",
   "metadata": {},
   "outputs": [],
   "source": [
    "b=32"
   ]
  },
  {
   "cell_type": "code",
   "execution_count": null,
   "id": "4ed56e09-10bf-448f-8050-f0033d85fc0c",
   "metadata": {},
   "outputs": [
    {
     "data": {
      "text/plain": [
       "37"
      ]
     },
     "execution_count": 3,
     "metadata": {},
     "output_type": "execute_result"
    }
   ],
   "source": [
    "a+b"
   ]
  },
  {
   "cell_type": "code",
   "execution_count": null,
   "id": "7f57efe4-bb89-402f-8bc1-cf48c68edad9",
   "metadata": {},
   "outputs": [],
   "source": [
    "name=\"Himanshu\""
   ]
  },
  {
   "cell_type": "code",
   "execution_count": null,
   "id": "06b9a8af-6fd3-451e-94ed-78e85af6e037",
   "metadata": {},
   "outputs": [
    {
     "name": "stdout",
     "output_type": "stream",
     "text": [
      "hello world\n"
     ]
    }
   ],
   "source": [
    "print(\"hello world\")"
   ]
  },
  {
   "cell_type": "code",
   "execution_count": null,
   "id": "6c2b0d6d-359d-4a86-ac87-1d752e5ea775",
   "metadata": {},
   "outputs": [],
   "source": [
    "#this is comment"
   ]
  },
  {
   "cell_type": "code",
   "execution_count": null,
   "id": "33d5b80e-35f9-429e-b772-bcb6fd4fd522",
   "metadata": {},
   "outputs": [
    {
     "name": "stdout",
     "output_type": "stream",
     "text": [
      "37 Himanshu\n"
     ]
    }
   ],
   "source": [
    "print(a+b,name)"
   ]
  }
 ],
 "metadata": {
  "kernelspec": {
   "display_name": "Python 3 (ipykernel)",
   "language": "python",
   "name": "python3"
  },
  "language_info": {
   "codemirror_mode": {
    "name": "ipython",
    "version": 3
   },
   "file_extension": ".py",
   "mimetype": "text/x-python",
   "name": "python",
   "nbconvert_exporter": "python",
   "pygments_lexer": "ipython3",
   "version": "3.12.7"
  }
 },
 "nbformat": 4,
 "nbformat_minor": 5
}
