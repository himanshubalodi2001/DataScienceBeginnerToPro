{
 "cells": [
  {
   "cell_type": "markdown",
   "id": "914ec839-fdaa-4d5b-a385-02be95f4e4bf",
   "metadata": {},
   "source": [
    "format() and fstring\n"
   ]
  },
  {
   "cell_type": "code",
   "execution_count": 2,
   "id": "be6fbb98-805d-43cc-9267-e642b67f8386",
   "metadata": {},
   "outputs": [],
   "source": [
    "a=90\n",
    "b=\"himanshu balodi\"\n",
    "sub=\"python\""
   ]
  },
  {
   "cell_type": "code",
   "execution_count": 5,
   "id": "397bcde2-5ee8-4305-9b86-f273eb9d3ce5",
   "metadata": {},
   "outputs": [
    {
     "name": "stdout",
     "output_type": "stream",
     "text": [
      "my name is himanshu balodi and my favorite subject is python and i got 90 marks in python exam\n"
     ]
    }
   ],
   "source": [
    "print(\"my name is {} and my favorite subject is {} and i got {} marks in python exam\".format(b,sub,a)) #so old and not majority used in this 2025"
   ]
  },
  {
   "cell_type": "code",
   "execution_count": 7,
   "id": "8d80e7f7-3b5e-48ce-b610-a9988820bddf",
   "metadata": {},
   "outputs": [
    {
     "name": "stdout",
     "output_type": "stream",
     "text": [
      "my name is himanshu balodi and my fav subject is python cause i got 90 marks in my exam\n"
     ]
    }
   ],
   "source": [
    "print(f\"my name is {b} and my fav subject is {sub} cause i got {a} marks in my exam\" )"
   ]
  },
  {
   "cell_type": "code",
   "execution_count": 8,
   "id": "e94b4581-03c2-4f1d-9baa-b1827df8b3fb",
   "metadata": {},
   "outputs": [
    {
     "name": "stdout",
     "output_type": "stream",
     "text": [
      "python    \n",
      "    python\n",
      "  python  \n"
     ]
    }
   ],
   "source": [
    "print(f\"{'python':<10}\")\n",
    "print(f\"{'python':>10}\")\n",
    "print(f\"{'python':^10}\")"
   ]
  },
  {
   "cell_type": "code",
   "execution_count": null,
   "id": "286faec2-886a-41cb-8c0e-9f1881a5b5dd",
   "metadata": {},
   "outputs": [],
   "source": []
  }
 ],
 "metadata": {
  "kernelspec": {
   "display_name": "Python 3 (ipykernel)",
   "language": "python",
   "name": "python3"
  },
  "language_info": {
   "codemirror_mode": {
    "name": "ipython",
    "version": 3
   },
   "file_extension": ".py",
   "mimetype": "text/x-python",
   "name": "python",
   "nbconvert_exporter": "python",
   "pygments_lexer": "ipython3",
   "version": "3.12.7"
  }
 },
 "nbformat": 4,
 "nbformat_minor": 5
}
