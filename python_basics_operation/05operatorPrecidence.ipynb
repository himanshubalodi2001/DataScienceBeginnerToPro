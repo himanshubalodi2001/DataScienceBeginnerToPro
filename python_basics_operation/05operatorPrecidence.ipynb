{
 "cells": [
  {
   "cell_type": "code",
   "execution_count": 1,
   "id": "918ddd72-48ac-4c17-98c3-e3b4e8600964",
   "metadata": {},
   "outputs": [],
   "source": [
    "result=10+2*2"
   ]
  },
  {
   "cell_type": "code",
   "execution_count": 2,
   "id": "8e152b15-7a05-4fab-bdef-613b0f09a584",
   "metadata": {},
   "outputs": [
    {
     "data": {
      "text/plain": [
       "14"
      ]
     },
     "execution_count": 2,
     "metadata": {},
     "output_type": "execute_result"
    }
   ],
   "source": [
    "result"
   ]
  },
  {
   "cell_type": "code",
   "execution_count": 3,
   "id": "8179f913-7707-458e-a8c3-50d598087eab",
   "metadata": {},
   "outputs": [],
   "source": [
    "result1=(10+2)*2"
   ]
  },
  {
   "cell_type": "code",
   "execution_count": 4,
   "id": "9c92c704-1c91-4eb1-b9d4-e1b11dc4187a",
   "metadata": {},
   "outputs": [
    {
     "data": {
      "text/plain": [
       "24"
      ]
     },
     "execution_count": 4,
     "metadata": {},
     "output_type": "execute_result"
    }
   ],
   "source": [
    "result1"
   ]
  },
  {
   "cell_type": "code",
   "execution_count": 5,
   "id": "9db4bae4-a223-4aef-ac40-6f720b0ef925",
   "metadata": {},
   "outputs": [
    {
     "data": {
      "text/plain": [
       "87.75"
      ]
     },
     "execution_count": 5,
     "metadata": {},
     "output_type": "execute_result"
    }
   ],
   "source": [
    "23/4*5+60-43//2**5\n"
   ]
  },
  {
   "cell_type": "code",
   "execution_count": 6,
   "id": "ffb170f1-a20d-471b-a135-295415b44f9e",
   "metadata": {},
   "outputs": [
    {
     "data": {
      "text/plain": [
       "87.75"
      ]
     },
     "execution_count": 6,
     "metadata": {},
     "output_type": "execute_result"
    }
   ],
   "source": [
    "23/4*5+60-43//32\n"
   ]
  },
  {
   "cell_type": "code",
   "execution_count": 7,
   "id": "1cd8681b-f0cb-45dd-8f62-ebbbfbd26b09",
   "metadata": {},
   "outputs": [
    {
     "data": {
      "text/plain": [
       "87.75"
      ]
     },
     "execution_count": 7,
     "metadata": {},
     "output_type": "execute_result"
    }
   ],
   "source": [
    "5.75*5+60-43//32"
   ]
  },
  {
   "cell_type": "code",
   "execution_count": 8,
   "id": "f2d3e99a-c18a-4a9e-a18e-583c82e3bf8d",
   "metadata": {},
   "outputs": [
    {
     "data": {
      "text/plain": [
       "87.75"
      ]
     },
     "execution_count": 8,
     "metadata": {},
     "output_type": "execute_result"
    }
   ],
   "source": [
    "28.75+60-43//32"
   ]
  },
  {
   "cell_type": "code",
   "execution_count": 9,
   "id": "0286133a-4fe5-488b-800b-012164603332",
   "metadata": {},
   "outputs": [
    {
     "data": {
      "text/plain": [
       "87.75"
      ]
     },
     "execution_count": 9,
     "metadata": {},
     "output_type": "execute_result"
    }
   ],
   "source": [
    "88.75-43//32\n"
   ]
  },
  {
   "cell_type": "code",
   "execution_count": 10,
   "id": "61381c8a-0fd3-407a-854e-b8de4790c85f",
   "metadata": {},
   "outputs": [
    {
     "data": {
      "text/plain": [
       "87.75"
      ]
     },
     "execution_count": 10,
     "metadata": {},
     "output_type": "execute_result"
    }
   ],
   "source": [
    "88.75-1\n"
   ]
  },
  {
   "cell_type": "code",
   "execution_count": null,
   "id": "5ca0ccc6-17a7-4b08-8be9-306b9dcc9d46",
   "metadata": {},
   "outputs": [],
   "source": []
  }
 ],
 "metadata": {
  "kernelspec": {
   "display_name": "Python 3 (ipykernel)",
   "language": "python",
   "name": "python3"
  },
  "language_info": {
   "codemirror_mode": {
    "name": "ipython",
    "version": 3
   },
   "file_extension": ".py",
   "mimetype": "text/x-python",
   "name": "python",
   "nbconvert_exporter": "python",
   "pygments_lexer": "ipython3",
   "version": "3.12.7"
  }
 },
 "nbformat": 4,
 "nbformat_minor": 5
}
