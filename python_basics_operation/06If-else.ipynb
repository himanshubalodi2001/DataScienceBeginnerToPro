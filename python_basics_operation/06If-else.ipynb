{
 "cells": [
  {
   "cell_type": "code",
   "execution_count": 9,
   "id": "7f5f62f3-8142-43bd-8bc0-5d97c5d25b43",
   "metadata": {},
   "outputs": [],
   "source": [
    "a=300"
   ]
  },
  {
   "cell_type": "code",
   "execution_count": 10,
   "id": "43e824d0-f223-4d4f-b463-151a67fbb839",
   "metadata": {},
   "outputs": [
    {
     "name": "stdout",
     "output_type": "stream",
     "text": [
      "greater\n"
     ]
    }
   ],
   "source": [
    "if(a>20):\n",
    "    print(\"greater\")\n",
    "else:\n",
    "    print(\"smaller\")"
   ]
  },
  {
   "cell_type": "code",
   "execution_count": 11,
   "id": "cf7ee1b1-1dfc-4c41-a747-30a2d45f6c5c",
   "metadata": {},
   "outputs": [
    {
     "name": "stdout",
     "output_type": "stream",
     "text": [
      "true\n"
     ]
    }
   ],
   "source": [
    "if a==300:\n",
    "    print(\"true\")\n",
    "else:\n",
    "    print(\"false\")"
   ]
  },
  {
   "cell_type": "code",
   "execution_count": 12,
   "id": "4e5af4d9-a01e-464e-aa97-d8b181b5e8dc",
   "metadata": {},
   "outputs": [],
   "source": [
    "def himu():\n",
    "    a=20\n",
    "    b=30\n",
    "    return a+b"
   ]
  },
  {
   "cell_type": "code",
   "execution_count": 13,
   "id": "e85605c3-0b79-491c-8ed1-c4311ac86da9",
   "metadata": {},
   "outputs": [
    {
     "data": {
      "text/plain": [
       "50"
      ]
     },
     "execution_count": 13,
     "metadata": {},
     "output_type": "execute_result"
    }
   ],
   "source": [
    "himu()"
   ]
  },
  {
   "cell_type": "code",
   "execution_count": null,
   "id": "da99104d-9872-4b54-bced-e97411cf9153",
   "metadata": {},
   "outputs": [],
   "source": []
  }
 ],
 "metadata": {
  "kernelspec": {
   "display_name": "Python 3 (ipykernel)",
   "language": "python",
   "name": "python3"
  },
  "language_info": {
   "codemirror_mode": {
    "name": "ipython",
    "version": 3
   },
   "file_extension": ".py",
   "mimetype": "text/x-python",
   "name": "python",
   "nbconvert_exporter": "python",
   "pygments_lexer": "ipython3",
   "version": "3.12.7"
  }
 },
 "nbformat": 4,
 "nbformat_minor": 5
}
