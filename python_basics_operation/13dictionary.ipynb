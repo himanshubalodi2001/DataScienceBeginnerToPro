{
 "cells": [
  {
   "cell_type": "code",
   "execution_count": 1,
   "id": "4a235051-7772-4be3-8498-e5f28b087f0a",
   "metadata": {},
   "outputs": [],
   "source": [
    "d={}"
   ]
  },
  {
   "cell_type": "code",
   "execution_count": 2,
   "id": "35d12465-5472-425c-af44-c45c9dfe207c",
   "metadata": {},
   "outputs": [
    {
     "data": {
      "text/plain": [
       "dict"
      ]
     },
     "execution_count": 2,
     "metadata": {},
     "output_type": "execute_result"
    }
   ],
   "source": [
    "type(d)"
   ]
  },
  {
   "cell_type": "code",
   "execution_count": 3,
   "id": "e79825f5-0304-4ff2-a9d1-565ed4e577ea",
   "metadata": {},
   "outputs": [],
   "source": [
    "d={\n",
    "    \"name\":\"himanshu\",\n",
    "    \"grade\":\"A+\",\n",
    "    \"age\":24\n",
    "}"
   ]
  },
  {
   "cell_type": "code",
   "execution_count": 4,
   "id": "43425f51-d9cb-410f-8784-27f29e15f5c2",
   "metadata": {},
   "outputs": [
    {
     "data": {
      "text/plain": [
       "'himanshu'"
      ]
     },
     "execution_count": 4,
     "metadata": {},
     "output_type": "execute_result"
    }
   ],
   "source": [
    "d[\"name\"]"
   ]
  },
  {
   "cell_type": "code",
   "execution_count": 5,
   "id": "c67ca2f6-725a-4586-ab50-108aaa0eb641",
   "metadata": {},
   "outputs": [
    {
     "data": {
      "text/plain": [
       "dict_keys(['name', 'grade', 'age'])"
      ]
     },
     "execution_count": 5,
     "metadata": {},
     "output_type": "execute_result"
    }
   ],
   "source": [
    "d.keys()"
   ]
  },
  {
   "cell_type": "code",
   "execution_count": 6,
   "id": "ea2ab3cc-e057-4a3b-baad-891fa378a01a",
   "metadata": {},
   "outputs": [
    {
     "data": {
      "text/plain": [
       "dict_values(['himanshu', 'A+', 24])"
      ]
     },
     "execution_count": 6,
     "metadata": {},
     "output_type": "execute_result"
    }
   ],
   "source": [
    "d.values()"
   ]
  },
  {
   "cell_type": "code",
   "execution_count": 7,
   "id": "145dccb6-5b1d-4cbd-9ab4-321d7fa3da45",
   "metadata": {},
   "outputs": [],
   "source": [
    "d[\"name\"]=\"robin\""
   ]
  },
  {
   "cell_type": "code",
   "execution_count": 8,
   "id": "cb1d0578-ea7d-4b5d-9afe-3b9ef0c001f2",
   "metadata": {},
   "outputs": [
    {
     "data": {
      "text/plain": [
       "{'name': 'robin', 'grade': 'A+', 'age': 24}"
      ]
     },
     "execution_count": 8,
     "metadata": {},
     "output_type": "execute_result"
    }
   ],
   "source": [
    "d # we can update dict"
   ]
  },
  {
   "cell_type": "code",
   "execution_count": 9,
   "id": "e3e9012b-bab8-4839-8d0e-77cf4e7d2da3",
   "metadata": {},
   "outputs": [],
   "source": [
    "d.update({\"language\":2})"
   ]
  },
  {
   "cell_type": "code",
   "execution_count": 10,
   "id": "606773e0-8945-4aa8-b121-f4710cb16252",
   "metadata": {},
   "outputs": [
    {
     "data": {
      "text/plain": [
       "{'name': 'robin', 'grade': 'A+', 'age': 24, 'language': 2}"
      ]
     },
     "execution_count": 10,
     "metadata": {},
     "output_type": "execute_result"
    }
   ],
   "source": [
    "d"
   ]
  },
  {
   "cell_type": "code",
   "execution_count": 11,
   "id": "a22c815f-0768-4233-916c-45b15758c0eb",
   "metadata": {},
   "outputs": [
    {
     "ename": "KeyError",
     "evalue": "'ages'",
     "output_type": "error",
     "traceback": [
      "\u001b[1;31m---------------------------------------------------------------------------\u001b[0m",
      "\u001b[1;31mKeyError\u001b[0m                                  Traceback (most recent call last)",
      "Cell \u001b[1;32mIn[11], line 1\u001b[0m\n\u001b[1;32m----> 1\u001b[0m d\u001b[38;5;241m.\u001b[39mpop(\u001b[38;5;124m\"\u001b[39m\u001b[38;5;124mages\u001b[39m\u001b[38;5;124m\"\u001b[39m)\n",
      "\u001b[1;31mKeyError\u001b[0m: 'ages'"
     ]
    }
   ],
   "source": [
    "d.pop(\"ages\")"
   ]
  },
  {
   "cell_type": "code",
   "execution_count": null,
   "id": "8891c3ac-f51e-40b1-8f8d-61625b965cff",
   "metadata": {},
   "outputs": [],
   "source": [
    "d"
   ]
  }
 ],
 "metadata": {
  "kernelspec": {
   "display_name": "Python 3 (ipykernel)",
   "language": "python",
   "name": "python3"
  },
  "language_info": {
   "codemirror_mode": {
    "name": "ipython",
    "version": 3
   },
   "file_extension": ".py",
   "mimetype": "text/x-python",
   "name": "python",
   "nbconvert_exporter": "python",
   "pygments_lexer": "ipython3",
   "version": "3.12.7"
  }
 },
 "nbformat": 4,
 "nbformat_minor": 5
}
