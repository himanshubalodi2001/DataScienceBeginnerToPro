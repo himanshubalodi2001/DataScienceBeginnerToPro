{
 "cells": [
  {
   "cell_type": "markdown",
   "id": "414782d1-ff24-4cc3-9f38-0bfead20e9b8",
   "metadata": {},
   "source": [
    "Normal railway application"
   ]
  },
  {
   "cell_type": "code",
   "execution_count": 21,
   "id": "465685b4-d96b-4a5d-b7e4-2864065cd23e",
   "metadata": {},
   "outputs": [
    {
     "name": "stdin",
     "output_type": "stream",
     "text": [
      "Enter your fuLL name:  HIMANSHU BALODI\n",
      "enter your age:  24\n"
     ]
    }
   ],
   "source": [
    "from datetime import datetime\n",
    "class RailwayTicket():\n",
    "    name=input(\"Enter your fuLL name: \")\n",
    "    Age=int(input(\"enter your age: \"))\n",
    "    def __init__(self,category,NO_of_seat,ID,Platform_no):\n",
    "        self.ID=ID\n",
    "        self.Platform_no=Platform_no\n",
    "        self.category=category\n",
    "        self.NO_of_seat=NO_of_seat\n",
    "    def detail(self):\n",
    "        print(f\"Your id no {self.ID} ticket no #### on the platform number {self.Platform_no} category of {self.category} with having number of seat {self.NO_of_seat} \")\n",
    "    @staticmethod\n",
    "    def Timess():\n",
    "        print(\"The booking is done on 25/06/25\")\n",
    "    @classmethod\n",
    "    def mainOB(cls):\n",
    "        print(\"thanks for doing registration\")\n",
    "        print(f\"The booking no #### booking by {cls.name} and age of {cls.name} is {cls.Age}\")"
   ]
  },
  {
   "cell_type": "code",
   "execution_count": 23,
   "id": "e2956370-5866-459f-982f-b1fd0a6ff519",
   "metadata": {},
   "outputs": [
    {
     "name": "stdin",
     "output_type": "stream",
     "text": [
      "enter the number of seat:  4\n",
      "enter the category you waNT GEneral/first ac/ third class General\n"
     ]
    },
    {
     "name": "stdout",
     "output_type": "stream",
     "text": [
      "The booking is done on 25/06/25\n",
      "thanks for doing registration\n",
      "The booking no #### booking by HIMANSHU BALODI and age of HIMANSHU BALODI is 24\n",
      "Your id no General ticket no #### on the platform number 4 category of 200122 with having number of seat 5 \n"
     ]
    }
   ],
   "source": [
    "seat=int(input(\"enter the number of seat: \"))\n",
    "cate=input(\"enter the category you waNT GEneral/first ac/ third class\")\n",
    "obj=RailwayTicket(cate,seat,200122,5)\n",
    "obj.Timess()\n",
    "obj.mainOB()\n",
    "obj.detail()"
   ]
  },
  {
   "cell_type": "code",
   "execution_count": null,
   "id": "5c0b3e68-a4ec-409e-a285-3fc5c70f331a",
   "metadata": {},
   "outputs": [],
   "source": []
  }
 ],
 "metadata": {
  "kernelspec": {
   "display_name": "Python 3 (ipykernel)",
   "language": "python",
   "name": "python3"
  },
  "language_info": {
   "codemirror_mode": {
    "name": "ipython",
    "version": 3
   },
   "file_extension": ".py",
   "mimetype": "text/x-python",
   "name": "python",
   "nbconvert_exporter": "python",
   "pygments_lexer": "ipython3",
   "version": "3.12.7"
  }
 },
 "nbformat": 4,
 "nbformat_minor": 5
}
