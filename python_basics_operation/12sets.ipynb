{
 "cells": [
  {
   "cell_type": "code",
   "execution_count": 1,
   "id": "9c5ec9b8-07a1-4bd5-9c19-cd60cc603495",
   "metadata": {},
   "outputs": [],
   "source": [
    "s={2,3,4,5,2}"
   ]
  },
  {
   "cell_type": "code",
   "execution_count": 2,
   "id": "84823481-1d3d-4814-ade9-e429cdf49d02",
   "metadata": {},
   "outputs": [
    {
     "data": {
      "text/plain": [
       "{2, 3, 4, 5}"
      ]
     },
     "execution_count": 2,
     "metadata": {},
     "output_type": "execute_result"
    }
   ],
   "source": [
    "s"
   ]
  },
  {
   "cell_type": "code",
   "execution_count": 3,
   "id": "d7655cb3-81ab-4509-a98d-a2013da9376e",
   "metadata": {},
   "outputs": [],
   "source": [
    "s.add(89)"
   ]
  },
  {
   "cell_type": "code",
   "execution_count": 7,
   "id": "63ce89ba-e3c3-4b18-9bb9-f414b92ab083",
   "metadata": {},
   "outputs": [],
   "source": [
    "s.update([10,20])"
   ]
  },
  {
   "cell_type": "code",
   "execution_count": 8,
   "id": "7ecb1f25-0210-4acc-af60-3424ea2bb07f",
   "metadata": {},
   "outputs": [
    {
     "data": {
      "text/plain": [
       "{2, 3, 4, 5, 10, 20, 89}"
      ]
     },
     "execution_count": 8,
     "metadata": {},
     "output_type": "execute_result"
    }
   ],
   "source": [
    "s"
   ]
  },
  {
   "cell_type": "code",
   "execution_count": 14,
   "id": "9012bfd8-d4a4-41ea-a70c-6af6f92deb47",
   "metadata": {},
   "outputs": [],
   "source": [
    "s.remove(5) #if not found then error"
   ]
  },
  {
   "cell_type": "code",
   "execution_count": 15,
   "id": "ee9e8b98-2d84-4958-b490-26f867bf9c86",
   "metadata": {},
   "outputs": [],
   "source": [
    "s.discard(22) #if not found then no error\n"
   ]
  },
  {
   "cell_type": "code",
   "execution_count": 16,
   "id": "b44874f2-d5ac-4f6b-a46a-865ad0894da5",
   "metadata": {},
   "outputs": [
    {
     "data": {
      "text/plain": [
       "{2, 4, 10, 20, 89}"
      ]
     },
     "execution_count": 16,
     "metadata": {},
     "output_type": "execute_result"
    }
   ],
   "source": [
    "s"
   ]
  },
  {
   "cell_type": "code",
   "execution_count": 20,
   "id": "232ab008-9081-4f8c-9d74-bb1645c195a4",
   "metadata": {},
   "outputs": [],
   "source": [
    "b={4,10}\n"
   ]
  },
  {
   "cell_type": "code",
   "execution_count": 21,
   "id": "96a274e4-1911-4be3-90b3-1fd7003daec7",
   "metadata": {},
   "outputs": [
    {
     "data": {
      "text/plain": [
       "True"
      ]
     },
     "execution_count": 21,
     "metadata": {},
     "output_type": "execute_result"
    }
   ],
   "source": [
    "b.issubset(s)"
   ]
  },
  {
   "cell_type": "code",
   "execution_count": 22,
   "id": "e175c665-e96f-421b-8199-74a9df795e98",
   "metadata": {},
   "outputs": [
    {
     "data": {
      "text/plain": [
       "True"
      ]
     },
     "execution_count": 22,
     "metadata": {},
     "output_type": "execute_result"
    }
   ],
   "source": [
    "s.issuperset(b)"
   ]
  },
  {
   "cell_type": "code",
   "execution_count": null,
   "id": "913758ef-277e-4201-9069-d41c58091349",
   "metadata": {},
   "outputs": [],
   "source": []
  }
 ],
 "metadata": {
  "kernelspec": {
   "display_name": "Python 3 (ipykernel)",
   "language": "python",
   "name": "python3"
  },
  "language_info": {
   "codemirror_mode": {
    "name": "ipython",
    "version": 3
   },
   "file_extension": ".py",
   "mimetype": "text/x-python",
   "name": "python",
   "nbconvert_exporter": "python",
   "pygments_lexer": "ipython3",
   "version": "3.12.7"
  }
 },
 "nbformat": 4,
 "nbformat_minor": 5
}
