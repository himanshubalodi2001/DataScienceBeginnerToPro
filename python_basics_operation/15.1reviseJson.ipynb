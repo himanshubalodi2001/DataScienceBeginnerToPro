{
 "cells": [
  {
   "cell_type": "code",
   "execution_count": 9,
   "id": "12fc132a-6222-4c73-92f3-8cd1cdf5b78d",
   "metadata": {},
   "outputs": [],
   "source": [
    "data1={\"name\":\"Himanshu balodi\",\"age\":23,\"course\":\"data science\",\"roll no\":32}\n"
   ]
  },
  {
   "cell_type": "code",
   "execution_count": 10,
   "id": "ed9587f0-3ef1-4ba5-9024-70f5c551f4fc",
   "metadata": {},
   "outputs": [],
   "source": [
    "with open(\"data.json\",\"w\") as file:\n",
    "    json.dump(data1,file)"
   ]
  },
  {
   "cell_type": "code",
   "execution_count": 11,
   "id": "86fd5e5f-34e6-4091-bfae-5907dadb3162",
   "metadata": {},
   "outputs": [],
   "source": [
    "with open(\"data.json\",\"r\") as file:\n",
    "    json_object=json.load(file)"
   ]
  },
  {
   "cell_type": "code",
   "execution_count": 12,
   "id": "814e4a21-2642-4e98-a650-0b6608c16e8c",
   "metadata": {},
   "outputs": [
    {
     "data": {
      "text/plain": [
       "{'name': 'Himanshu balodi', 'age': 23, 'course': 'data science', 'roll no': 32}"
      ]
     },
     "execution_count": 12,
     "metadata": {},
     "output_type": "execute_result"
    }
   ],
   "source": [
    "json_object"
   ]
  },
  {
   "cell_type": "code",
   "execution_count": null,
   "id": "20c9cc3a-ffd1-4c76-8c07-3a7a9ef96f15",
   "metadata": {},
   "outputs": [],
   "source": []
  }
 ],
 "metadata": {
  "kernelspec": {
   "display_name": "Python 3 (ipykernel)",
   "language": "python",
   "name": "python3"
  },
  "language_info": {
   "codemirror_mode": {
    "name": "ipython",
    "version": 3
   },
   "file_extension": ".py",
   "mimetype": "text/x-python",
   "name": "python",
   "nbconvert_exporter": "python",
   "pygments_lexer": "ipython3",
   "version": "3.12.7"
  }
 },
 "nbformat": 4,
 "nbformat_minor": 5
}
