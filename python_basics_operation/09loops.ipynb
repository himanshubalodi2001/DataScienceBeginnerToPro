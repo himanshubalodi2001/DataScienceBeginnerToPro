{
 "cells": [
  {
   "cell_type": "code",
   "execution_count": 1,
   "id": "a70c52ba-7388-4204-ae0f-9de4605ea8cd",
   "metadata": {},
   "outputs": [
    {
     "name": "stdout",
     "output_type": "stream",
     "text": [
      "1\n",
      "2\n",
      "3\n",
      "4\n",
      "5\n",
      "6\n",
      "7\n",
      "8\n",
      "9\n"
     ]
    }
   ],
   "source": [
    "for i in range(1,10):\n",
    "    print(i)"
   ]
  },
  {
   "cell_type": "code",
   "execution_count": 2,
   "id": "8bb59fb2-51f8-45eb-85fc-c672588c9ab2",
   "metadata": {},
   "outputs": [
    {
     "name": "stdout",
     "output_type": "stream",
     "text": [
      "10\n",
      "20\n",
      "30\n",
      "40\n"
     ]
    }
   ],
   "source": [
    "list=[10,20,30,40]\n",
    "for lis in list:\n",
    "    print(lis)"
   ]
  },
  {
   "cell_type": "code",
   "execution_count": 3,
   "id": "54dc7696-f5c3-4ada-83a3-293ce6d88d42",
   "metadata": {},
   "outputs": [
    {
     "name": "stdout",
     "output_type": "stream",
     "text": [
      "10\n",
      "11\n",
      "12\n",
      "13\n",
      "14\n",
      "15\n",
      "16\n",
      "17\n",
      "18\n",
      "19\n",
      "20\n"
     ]
    }
   ],
   "source": [
    "i=10\n",
    "while i<=20:\n",
    "    print(i)\n",
    "    i+=1\n",
    "    \n"
   ]
  },
  {
   "cell_type": "code",
   "execution_count": 3,
   "id": "9ec5aec1-4d22-4609-87f0-07c8f49628cc",
   "metadata": {},
   "outputs": [
    {
     "name": "stdout",
     "output_type": "stream",
     "text": [
      "0\n",
      "1\n",
      "2\n",
      "3\n",
      "4\n",
      "6\n",
      "7\n",
      "8\n",
      "9\n",
      "10\n"
     ]
    }
   ],
   "source": [
    "i=0\n",
    "while i<=10:\n",
    "    if i==5:\n",
    "        i+=1\n",
    "        continue\n",
    "    print(i)\n",
    "    i+=1"
   ]
  },
  {
   "cell_type": "code",
   "execution_count": 6,
   "id": "fc436a8d-2165-4f3f-9be4-b7bf8bc80af0",
   "metadata": {},
   "outputs": [
    {
     "name": "stdout",
     "output_type": "stream",
     "text": [
      "apple\n",
      "banana\n",
      "grapes\n"
     ]
    }
   ],
   "source": [
    "list=[\"apple\",\"banana\",\"orange\",\"grapes\"]\n",
    "for k in list:\n",
    "    if k==\"orange\":\n",
    "        continue\n",
    "    print(k)    "
   ]
  },
  {
   "cell_type": "code",
   "execution_count": 8,
   "id": "a0b2aa04-372a-4141-aae7-6147a220fa70",
   "metadata": {},
   "outputs": [
    {
     "name": "stdout",
     "output_type": "stream",
     "text": [
      "apple\n",
      "banana\n"
     ]
    }
   ],
   "source": [
    "list=[\"apple\",\"banana\",\"orange\",\"grapes\"]\n",
    "for k in list:\n",
    "    if k==\"orange\":\n",
    "        break\n",
    "    print(k)    "
   ]
  },
  {
   "cell_type": "code",
   "execution_count": 10,
   "id": "988cf067-0e3e-4ca4-a4b8-7ce4f701db81",
   "metadata": {},
   "outputs": [
    {
     "name": "stdout",
     "output_type": "stream",
     "text": [
      "apple\n",
      "banana\n",
      "grapes\n"
     ]
    }
   ],
   "source": [
    "list=[\"apple\",\"banana\",\"orange\",\"grapes\"]\n",
    "for k in list:\n",
    "    if k==\"orange\":\n",
    "        continue\n",
    "    print(k) \n"
   ]
  },
  {
   "cell_type": "code",
   "execution_count": 12,
   "id": "f8305084-0d7f-41ec-8674-fb479b4a92ac",
   "metadata": {},
   "outputs": [],
   "source": [
    "for i in range(10):\n",
    "    pass"
   ]
  },
  {
   "cell_type": "code",
   "execution_count": null,
   "id": "bd3f46f6-9b03-4bcd-994b-10f38c7f7c57",
   "metadata": {},
   "outputs": [],
   "source": []
  }
 ],
 "metadata": {
  "kernelspec": {
   "display_name": "Python 3 (ipykernel)",
   "language": "python",
   "name": "python3"
  },
  "language_info": {
   "codemirror_mode": {
    "name": "ipython",
    "version": 3
   },
   "file_extension": ".py",
   "mimetype": "text/x-python",
   "name": "python",
   "nbconvert_exporter": "python",
   "pygments_lexer": "ipython3",
   "version": "3.12.7"
  }
 },
 "nbformat": 4,
 "nbformat_minor": 5
}
