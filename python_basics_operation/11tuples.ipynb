{
 "cells": [
  {
   "cell_type": "code",
   "execution_count": 5,
   "id": "7506abbe-98d0-407d-a74f-969ad5810baa",
   "metadata": {},
   "outputs": [],
   "source": [
    "list=(20,30,40,50,20,20,30)\n"
   ]
  },
  {
   "cell_type": "code",
   "execution_count": 3,
   "id": "02fab88c-89ec-45a9-83c1-5584b60f35a2",
   "metadata": {},
   "outputs": [
    {
     "data": {
      "text/plain": [
       "tuple"
      ]
     },
     "execution_count": 3,
     "metadata": {},
     "output_type": "execute_result"
    }
   ],
   "source": [
    "type(list)"
   ]
  },
  {
   "cell_type": "code",
   "execution_count": 6,
   "id": "d5b31530-3acb-40a3-b1e3-382c8c420bf3",
   "metadata": {},
   "outputs": [
    {
     "data": {
      "text/plain": [
       "3"
      ]
     },
     "execution_count": 6,
     "metadata": {},
     "output_type": "execute_result"
    }
   ],
   "source": [
    "list.count(20)\n"
   ]
  },
  {
   "cell_type": "code",
   "execution_count": 7,
   "id": "cd1ae050-d898-4a91-9c0b-5149a8eaa38c",
   "metadata": {},
   "outputs": [],
   "source": [
    "#packing and unpacking\n"
   ]
  },
  {
   "cell_type": "code",
   "execution_count": 9,
   "id": "33b5111d-7ef6-4154-bf27-7668c816d72d",
   "metadata": {},
   "outputs": [],
   "source": [
    "person=(\"Himanshu\",23,\"Engineer\")\n",
    "name,age,job=person"
   ]
  },
  {
   "cell_type": "code",
   "execution_count": 10,
   "id": "a4c2a925-d2ac-4abc-8b21-cc7d7d376b84",
   "metadata": {},
   "outputs": [
    {
     "data": {
      "text/plain": [
       "('Himanshu', 23, 'Engineer')"
      ]
     },
     "execution_count": 10,
     "metadata": {},
     "output_type": "execute_result"
    }
   ],
   "source": [
    "name,age,job"
   ]
  },
  {
   "cell_type": "code",
   "execution_count": 12,
   "id": "7b07d453-6cde-4890-a4d7-c7f277299ef4",
   "metadata": {},
   "outputs": [
    {
     "data": {
      "text/plain": [
       "1"
      ]
     },
     "execution_count": 12,
     "metadata": {},
     "output_type": "execute_result"
    }
   ],
   "source": [
    "person.index(23)"
   ]
  },
  {
   "cell_type": "code",
   "execution_count": null,
   "id": "f24cdc95-bb43-4664-8f16-9123f07556d5",
   "metadata": {},
   "outputs": [],
   "source": []
  }
 ],
 "metadata": {
  "kernelspec": {
   "display_name": "Python 3 (ipykernel)",
   "language": "python",
   "name": "python3"
  },
  "language_info": {
   "codemirror_mode": {
    "name": "ipython",
    "version": 3
   },
   "file_extension": ".py",
   "mimetype": "text/x-python",
   "name": "python",
   "nbconvert_exporter": "python",
   "pygments_lexer": "ipython3",
   "version": "3.12.7"
  }
 },
 "nbformat": 4,
 "nbformat_minor": 5
}
