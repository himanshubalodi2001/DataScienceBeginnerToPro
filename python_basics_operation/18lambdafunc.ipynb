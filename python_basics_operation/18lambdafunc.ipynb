{
 "cells": [
  {
   "cell_type": "code",
   "execution_count": 1,
   "id": "1ab108e6-2bd1-4ff5-bddd-a344b1b4b16e",
   "metadata": {},
   "outputs": [],
   "source": [
    "cube=lambda x:x*x*x\n"
   ]
  },
  {
   "cell_type": "code",
   "execution_count": 2,
   "id": "eb023dc9-1921-4048-b27a-4feacef914d0",
   "metadata": {},
   "outputs": [
    {
     "data": {
      "text/plain": [
       "27"
      ]
     },
     "execution_count": 2,
     "metadata": {},
     "output_type": "execute_result"
    }
   ],
   "source": [
    "cube(3)"
   ]
  },
  {
   "cell_type": "code",
   "execution_count": 3,
   "id": "52a0dd0c-7fc5-4520-b36b-b002ec66fa44",
   "metadata": {},
   "outputs": [],
   "source": [
    "s=lambda a,b:a+b"
   ]
  },
  {
   "cell_type": "code",
   "execution_count": 4,
   "id": "f57aa059-6787-4211-8034-ac54440c75df",
   "metadata": {},
   "outputs": [
    {
     "data": {
      "text/plain": [
       "30"
      ]
     },
     "execution_count": 4,
     "metadata": {},
     "output_type": "execute_result"
    }
   ],
   "source": [
    "s(10,20)"
   ]
  },
  {
   "cell_type": "code",
   "execution_count": null,
   "id": "0edf67b5-2a0a-43b3-b204-c778e720766e",
   "metadata": {},
   "outputs": [],
   "source": []
  }
 ],
 "metadata": {
  "kernelspec": {
   "display_name": "Python 3 (ipykernel)",
   "language": "python",
   "name": "python3"
  },
  "language_info": {
   "codemirror_mode": {
    "name": "ipython",
    "version": 3
   },
   "file_extension": ".py",
   "mimetype": "text/x-python",
   "name": "python",
   "nbconvert_exporter": "python",
   "pygments_lexer": "ipython3",
   "version": "3.12.7"
  }
 },
 "nbformat": 4,
 "nbformat_minor": 5
}
