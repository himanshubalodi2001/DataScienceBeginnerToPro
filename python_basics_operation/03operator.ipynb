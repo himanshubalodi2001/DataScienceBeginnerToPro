{
 "cells": [
  {
   "cell_type": "code",
   "execution_count": 1,
   "id": "15594345-7fd9-45da-b0cf-69b596a68593",
   "metadata": {},
   "outputs": [],
   "source": [
    "a=10\n",
    "b=20"
   ]
  },
  {
   "cell_type": "code",
   "execution_count": 3,
   "id": "7f708e90-efdd-4272-9f23-50d114ead869",
   "metadata": {},
   "outputs": [
    {
     "data": {
      "text/plain": [
       "30"
      ]
     },
     "execution_count": 3,
     "metadata": {},
     "output_type": "execute_result"
    }
   ],
   "source": [
    "a+b"
   ]
  },
  {
   "cell_type": "code",
   "execution_count": 4,
   "id": "c7570c16-09f6-4bf9-8aa8-c0a05bcc8c0f",
   "metadata": {},
   "outputs": [
    {
     "data": {
      "text/plain": [
       "-10"
      ]
     },
     "execution_count": 4,
     "metadata": {},
     "output_type": "execute_result"
    }
   ],
   "source": [
    "a-b"
   ]
  },
  {
   "cell_type": "code",
   "execution_count": 5,
   "id": "dbce8503-bf83-4908-8f1f-8bcd67a91598",
   "metadata": {},
   "outputs": [
    {
     "data": {
      "text/plain": [
       "(200, 0.5)"
      ]
     },
     "execution_count": 5,
     "metadata": {},
     "output_type": "execute_result"
    }
   ],
   "source": [
    "a*b,a/b"
   ]
  },
  {
   "cell_type": "code",
   "execution_count": 6,
   "id": "03a310d4-7ffc-4652-81f9-94df62f801c9",
   "metadata": {},
   "outputs": [
    {
     "data": {
      "text/plain": [
       "(0, 100000000000000000000, 10)"
      ]
     },
     "execution_count": 6,
     "metadata": {},
     "output_type": "execute_result"
    }
   ],
   "source": [
    "a//b,a**b,a%b"
   ]
  },
  {
   "cell_type": "code",
   "execution_count": 7,
   "id": "c6e4ca14-8ce7-4d34-a6bb-03b263892fcc",
   "metadata": {},
   "outputs": [
    {
     "data": {
      "text/plain": [
       "False"
      ]
     },
     "execution_count": 7,
     "metadata": {},
     "output_type": "execute_result"
    }
   ],
   "source": [
    "a>b"
   ]
  },
  {
   "cell_type": "code",
   "execution_count": 8,
   "id": "67d46e4f-5896-48a1-8f63-8ecfa6cccf8c",
   "metadata": {},
   "outputs": [
    {
     "data": {
      "text/plain": [
       "True"
      ]
     },
     "execution_count": 8,
     "metadata": {},
     "output_type": "execute_result"
    }
   ],
   "source": [
    "a<b"
   ]
  },
  {
   "cell_type": "code",
   "execution_count": 9,
   "id": "6117817c-bb7a-4d22-a882-c0db24c0a11f",
   "metadata": {},
   "outputs": [
    {
     "data": {
      "text/plain": [
       "False"
      ]
     },
     "execution_count": 9,
     "metadata": {},
     "output_type": "execute_result"
    }
   ],
   "source": [
    "a>b and a<b"
   ]
  },
  {
   "cell_type": "code",
   "execution_count": 10,
   "id": "1d22e6f1-50c7-46d8-abe5-93b32805e332",
   "metadata": {},
   "outputs": [
    {
     "data": {
      "text/plain": [
       "True"
      ]
     },
     "execution_count": 10,
     "metadata": {},
     "output_type": "execute_result"
    }
   ],
   "source": [
    "a>b or a<b"
   ]
  },
  {
   "cell_type": "code",
   "execution_count": 11,
   "id": "ef4006cc-0334-4c81-a718-d787d3733a61",
   "metadata": {},
   "outputs": [
    {
     "name": "stdin",
     "output_type": "stream",
     "text": [
      "enter number 10\n"
     ]
    },
    {
     "name": "stdout",
     "output_type": "stream",
     "text": [
      "10\n"
     ]
    }
   ],
   "source": [
    "a=int(input(\"enter number\"))\n",
    "print(a)"
   ]
  },
  {
   "cell_type": "code",
   "execution_count": 14,
   "id": "524219dd-0a58-40b1-8e29-f44fce08223f",
   "metadata": {},
   "outputs": [
    {
     "name": "stdout",
     "output_type": "stream",
     "text": [
      "10\n"
     ]
    }
   ],
   "source": [
    "print(a)"
   ]
  },
  {
   "cell_type": "code",
   "execution_count": 15,
   "id": "a0052a74-d328-4b23-bbd5-42fb245313d7",
   "metadata": {},
   "outputs": [],
   "source": [
    "a=45"
   ]
  },
  {
   "cell_type": "code",
   "execution_count": 16,
   "id": "b81a1d55-bc24-4d9c-9d76-34c4a04749a6",
   "metadata": {},
   "outputs": [],
   "source": [
    "a+=4"
   ]
  },
  {
   "cell_type": "code",
   "execution_count": 17,
   "id": "8d14ce50-8c6e-4f33-b34e-30a1ae879f64",
   "metadata": {},
   "outputs": [
    {
     "data": {
      "text/plain": [
       "49"
      ]
     },
     "execution_count": 17,
     "metadata": {},
     "output_type": "execute_result"
    }
   ],
   "source": [
    "a"
   ]
  },
  {
   "cell_type": "code",
   "execution_count": null,
   "id": "1668b06d-dd5d-4178-87fe-c24adb4c4c17",
   "metadata": {},
   "outputs": [],
   "source": []
  }
 ],
 "metadata": {
  "kernelspec": {
   "display_name": "Python 3 (ipykernel)",
   "language": "python",
   "name": "python3"
  },
  "language_info": {
   "codemirror_mode": {
    "name": "ipython",
    "version": 3
   },
   "file_extension": ".py",
   "mimetype": "text/x-python",
   "name": "python",
   "nbconvert_exporter": "python",
   "pygments_lexer": "ipython3",
   "version": "3.12.7"
  }
 },
 "nbformat": 4,
 "nbformat_minor": 5
}
