{
 "cells": [
  {
   "cell_type": "code",
   "execution_count": 3,
   "id": "56a5e0c3-b9f0-4b08-9152-df475b9b568e",
   "metadata": {},
   "outputs": [],
   "source": [
    "import json"
   ]
  },
  {
   "cell_type": "code",
   "execution_count": 7,
   "id": "61140170-6b08-461a-a798-9e80aa494a00",
   "metadata": {},
   "outputs": [
    {
     "name": "stdout",
     "output_type": "stream",
     "text": [
      "file cleaned and load successfully..\n"
     ]
    }
   ],
   "source": [
    "def clean_data(data):\n",
    "    #clean the empty name user from the list\n",
    "    data[\"users\"]=[user for user in data[\"users\"] if user[\"name\"].strip()]\n",
    "    #clean repeated users friends\n",
    "    for user in data[\"users\"]:\n",
    "        user[\"friends\"]=list(set(user[\"friends\"]))\n",
    "    #cleaning the offline user                         \n",
    "    data[\"users\"]= [user for user in data[\"users\"] if user[\"friends\"] or user[\"liked_pages\"] ]   \n",
    "    #cleanning pages data repeated id by dictionary \n",
    "    dict_empage={}\n",
    "    for page in data[\"pages\"]:\n",
    "        dict_empage[page[\"id\"]]=page\n",
    "    data[\"pages\"]=list(dict_empage.values())    \n",
    "        \n",
    "    return data\n",
    "data=json.load(open(\"messyData.json\"))\n",
    "data=clean_data(data)\n",
    "json.dump(data,open(\"cleaned_data.json\",\"w\") ,indent=4)\n",
    "print(\"file cleaned and load successfully..\")\n",
    "    "
   ]
  },
  {
   "cell_type": "code",
   "execution_count": null,
   "id": "d77b923b-064d-4533-80d9-4643f5bd3f6e",
   "metadata": {},
   "outputs": [],
   "source": []
  }
 ],
 "metadata": {
  "kernelspec": {
   "display_name": "Python 3 (ipykernel)",
   "language": "python",
   "name": "python3"
  },
  "language_info": {
   "codemirror_mode": {
    "name": "ipython",
    "version": 3
   },
   "file_extension": ".py",
   "mimetype": "text/x-python",
   "name": "python",
   "nbconvert_exporter": "python",
   "pygments_lexer": "ipython3",
   "version": "3.12.7"
  }
 },
 "nbformat": 4,
 "nbformat_minor": 5
}
