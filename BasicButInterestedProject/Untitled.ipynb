{
 "cells": [
  {
   "cell_type": "code",
   "execution_count": 1,
   "id": "08a67a4c-a84a-47e9-a926-8707286c7a07",
   "metadata": {},
   "outputs": [],
   "source": [
    "import json"
   ]
  },
  {
   "cell_type": "code",
   "execution_count": 4,
   "id": "704bd838-63b4-4805-8607-0404146fb50f",
   "metadata": {},
   "outputs": [
    {
     "ename": "NameError",
     "evalue": "name 'user' is not defined",
     "output_type": "error",
     "traceback": [
      "\u001b[1;31m---------------------------------------------------------------------------\u001b[0m",
      "\u001b[1;31mNameError\u001b[0m                                 Traceback (most recent call last)",
      "Cell \u001b[1;32mIn[4], line 24\u001b[0m\n\u001b[0;32m     22\u001b[0m user_id\u001b[38;5;241m=\u001b[39m\u001b[38;5;241m2\u001b[39m\n\u001b[0;32m     23\u001b[0m recc\u001b[38;5;241m=\u001b[39mpeople_you_may_know(user_id,data)\n\u001b[1;32m---> 24\u001b[0m \u001b[38;5;28mprint\u001b[39m(\u001b[38;5;124mf\u001b[39m\u001b[38;5;124m\"\u001b[39m\u001b[38;5;132;01m{\u001b[39;00muser\u001b[38;5;132;01m:\u001b[39;00m\u001b[38;5;124mid\u001b[39m\u001b[38;5;132;01m}\u001b[39;00m\u001b[38;5;124m \u001b[39m\u001b[38;5;132;01m{\u001b[39;00mrecc\u001b[38;5;132;01m}\u001b[39;00m\u001b[38;5;124m\"\u001b[39m)\n",
      "\u001b[1;31mNameError\u001b[0m: name 'user' is not defined"
     ]
    }
   ],
   "source": [
    "def load_data(filename):\n",
    "    with open(filename,\"r\") as file:\n",
    "        return json.load(file)\n",
    "def people_you_may_know(user_id,data):\n",
    "    user_friends={}\n",
    "    for user in data[\"users\"]:\n",
    "        user_friends[user[\"id\"]]=set(user[\"friends\"])\n",
    "    if user_id not in user_friends:\n",
    "        return []\n",
    "    direct_friends=user_friends[user_id]\n",
    "    suggestion={}\n",
    "    for friends in direct_friends:\n",
    "        for mutual in user_friends[friends]:\n",
    "            if mutual!=user_id and mutual not in direct_friends:\n",
    "                suggestion[mutual]=suggestion.get(mutual,0)+1\n",
    "    sorted_suggestion=sorted(suggestion.items(),key=lambda x:x[1] ,reverse=True)\n",
    "    return [user_id for user_id ,_ in sorted_suggestion]\n",
    "\n",
    "\n",
    "\n",
    "data=load_data(\"Maindata.json\")\n",
    "user_id=2\n",
    "recc=people_you_may_know(user_id,data)\n",
    "print(f\"{user:id} {recc}\")"
   ]
  },
  {
   "cell_type": "code",
   "execution_count": null,
   "id": "1a40a2a9-9daf-47b7-8e5f-2f14a9183f1e",
   "metadata": {},
   "outputs": [],
   "source": []
  }
 ],
 "metadata": {
  "kernelspec": {
   "display_name": "Python 3 (ipykernel)",
   "language": "python",
   "name": "python3"
  },
  "language_info": {
   "codemirror_mode": {
    "name": "ipython",
    "version": 3
   },
   "file_extension": ".py",
   "mimetype": "text/x-python",
   "name": "python",
   "nbconvert_exporter": "python",
   "pygments_lexer": "ipython3",
   "version": "3.12.7"
  }
 },
 "nbformat": 4,
 "nbformat_minor": 5
}
