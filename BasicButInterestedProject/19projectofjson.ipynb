{
 "cells": [
  {
   "cell_type": "code",
   "execution_count": 1,
   "id": "e4e26255-04a5-4e9b-a03d-a89dadf205d9",
   "metadata": {},
   "outputs": [],
   "source": [
    "import json"
   ]
  },
  {
   "cell_type": "code",
   "execution_count": 2,
   "id": "d1fd52ac-68dc-4faa-99de-043561e9a37f",
   "metadata": {},
   "outputs": [],
   "source": [
    "def loadData(filename):\n",
    "    with open(filename,\"r\") as file:\n",
    "        data=json.load(file)\n",
    "        return data"
   ]
  },
  {
   "cell_type": "code",
   "execution_count": 3,
   "id": "10d749d0-404d-432f-bdac-e684b7d5e0a8",
   "metadata": {},
   "outputs": [],
   "source": [
    "def userData(data):\n",
    "    print(\"users social handlers info:\")\n",
    "    for user in data[\"users\"]:\n",
    "        print(f\"The ID of {user['name']} is {user['id']} having friends id {user['friends']}. {user['name']} recently like the pages having page_id {user['liked_pages']}.\")\n",
    "    print(\"\\nPages Info:\")   \n",
    "    for page in data[\"pages\"]:\n",
    "        print(f\"The id number {page[\"id\"]} is of {page[\"name\"]}\")"
   ]
  },
  {
   "cell_type": "code",
   "execution_count": 4,
   "id": "a6de99e7-82e0-4726-b70b-3912355602b0",
   "metadata": {},
   "outputs": [
    {
     "name": "stdout",
     "output_type": "stream",
     "text": [
      "users social handlers info:\n",
      "The ID of Amit is 1 having friends id [2, 3]. Amit recently like the pages having page_id [101].\n",
      "The ID of Priya is 2 having friends id [1, 4]. Priya recently like the pages having page_id [102].\n",
      "The ID of Rahul is 3 having friends id [1]. Rahul recently like the pages having page_id [101, 103].\n",
      "The ID of Sara is 4 having friends id [2]. Sara recently like the pages having page_id [104].\n",
      "\n",
      "Pages Info:\n",
      "The id number 101 is of Python Developers\n",
      "The id number 102 is of Data Science Enthusiasts\n",
      "The id number 103 is of AI & ML Community\n",
      "The id number 104 is of Web Dev Hub\n"
     ]
    }
   ],
   "source": [
    "data=loadData(\"Maindata.json\")\n",
    "userData(data)"
   ]
  },
  {
   "cell_type": "code",
   "execution_count": null,
   "id": "127d8c2a-9737-4da6-a359-3f37822c0d7b",
   "metadata": {},
   "outputs": [],
   "source": []
  }
 ],
 "metadata": {
  "kernelspec": {
   "display_name": "Python 3 (ipykernel)",
   "language": "python",
   "name": "python3"
  },
  "language_info": {
   "codemirror_mode": {
    "name": "ipython",
    "version": 3
   },
   "file_extension": ".py",
   "mimetype": "text/x-python",
   "name": "python",
   "nbconvert_exporter": "python",
   "pygments_lexer": "ipython3",
   "version": "3.12.7"
  }
 },
 "nbformat": 4,
 "nbformat_minor": 5
}
