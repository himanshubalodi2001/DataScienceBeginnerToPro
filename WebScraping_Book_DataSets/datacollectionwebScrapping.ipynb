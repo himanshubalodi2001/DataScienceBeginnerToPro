{
 "cells": [
  {
   "cell_type": "code",
   "execution_count": 2,
   "id": "a5a77d26-bfeb-4527-b92e-7daac4dfe10c",
   "metadata": {},
   "outputs": [],
   "source": [
    "import requests"
   ]
  },
  {
   "cell_type": "code",
   "execution_count": 4,
   "id": "e76033df-8b93-4f6c-adec-10da0c5d7178",
   "metadata": {},
   "outputs": [
    {
     "data": {
      "text/plain": [
       "200"
      ]
     },
     "execution_count": 4,
     "metadata": {},
     "output_type": "execute_result"
    }
   ],
   "source": [
    "a=requests.get(\"https://books.toscrape.com/\")\n",
    "a.status_code\n"
   ]
  },
  {
   "cell_type": "code",
   "execution_count": 19,
   "id": "c7d0c7b2-1001-4fd2-ac1e-84511b36be4a",
   "metadata": {},
   "outputs": [
    {
     "name": "stdout",
     "output_type": "stream",
     "text": [
      "downloaded page 1 successfully\n",
      "downloaded page 2 successfully\n",
      "downloaded page 3 successfully\n",
      "downloaded page 4 successfully\n",
      "downloaded page 5 successfully\n",
      "downloaded page 6 successfully\n",
      "downloaded page 7 successfully\n",
      "downloaded page 8 successfully\n",
      "downloaded page 9 successfully\n",
      "downloaded page 10 successfully\n",
      "downloaded page 11 successfully\n",
      "downloaded page 12 successfully\n",
      "downloaded page 13 successfully\n",
      "downloaded page 14 successfully\n",
      "downloaded page 15 successfully\n",
      "downloaded page 16 successfully\n",
      "downloaded page 17 successfully\n",
      "downloaded page 18 successfully\n",
      "downloaded page 19 successfully\n",
      "downloaded page 20 successfully\n",
      "downloaded page 21 successfully\n",
      "downloaded page 22 successfully\n",
      "downloaded page 23 successfully\n",
      "downloaded page 24 successfully\n",
      "downloaded page 25 successfully\n",
      "downloaded page 26 successfully\n",
      "downloaded page 27 successfully\n",
      "downloaded page 28 successfully\n",
      "downloaded page 29 successfully\n",
      "downloaded page 30 successfully\n",
      "downloaded page 31 successfully\n",
      "downloaded page 32 successfully\n",
      "downloaded page 33 successfully\n",
      "downloaded page 34 successfully\n",
      "downloaded page 35 successfully\n",
      "downloaded page 36 successfully\n",
      "downloaded page 37 successfully\n",
      "downloaded page 38 successfully\n",
      "downloaded page 39 successfully\n",
      "downloaded page 40 successfully\n",
      "downloaded page 41 successfully\n",
      "downloaded page 42 successfully\n",
      "downloaded page 43 successfully\n",
      "downloaded page 44 successfully\n",
      "downloaded page 45 successfully\n",
      "downloaded page 46 successfully\n",
      "downloaded page 47 successfully\n",
      "downloaded page 48 successfully\n",
      "downloaded page 49 successfully\n",
      "downloaded page 50 successfully\n"
     ]
    }
   ],
   "source": [
    "for i in range(1,51):\n",
    "    a=requests.get(f\"https://books.toscrape.com/catalogue/page-{i}.html\")\n",
    "    with open(f\"htmls/page{i}.html\",\"w\",encoding=\"utf-8\") as f:\n",
    "        f.write(a.text)\n",
    "        print(f\"downloaded page {i} successfully\")\n",
    "    "
   ]
  },
  {
   "cell_type": "code",
   "execution_count": null,
   "id": "6a0af18a-dc84-44c8-bbd3-1a57cc874500",
   "metadata": {},
   "outputs": [],
   "source": []
  }
 ],
 "metadata": {
  "kernelspec": {
   "display_name": "Python 3 (ipykernel)",
   "language": "python",
   "name": "python3"
  },
  "language_info": {
   "codemirror_mode": {
    "name": "ipython",
    "version": 3
   },
   "file_extension": ".py",
   "mimetype": "text/x-python",
   "name": "python",
   "nbconvert_exporter": "python",
   "pygments_lexer": "ipython3",
   "version": "3.12.7"
  }
 },
 "nbformat": 4,
 "nbformat_minor": 5
}
