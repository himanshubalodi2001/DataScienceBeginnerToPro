{
 "cells": [
  {
   "cell_type": "markdown",
   "id": "3a62c487-0073-4dc6-b86b-02d07448d5af",
   "metadata": {},
   "source": [
    "Data Collection Techniques"
   ]
  },
  {
   "cell_type": "code",
   "execution_count": 1,
   "id": "3ccdd4e5-5362-4408-a45c-fd0076ab5444",
   "metadata": {},
   "outputs": [],
   "source": [
    "import requests"
   ]
  },
  {
   "cell_type": "code",
   "execution_count": 3,
   "id": "ed4688dd-c8ad-410b-abec-a7fb993a5bf5",
   "metadata": {},
   "outputs": [],
   "source": [
    "a=requests.get(\"https://books.toscrape.com/\")"
   ]
  },
  {
   "cell_type": "code",
   "execution_count": 8,
   "id": "12dc3c51-7f1f-46cb-92eb-7d7e8dd4f417",
   "metadata": {},
   "outputs": [
    {
     "name": "stdout",
     "output_type": "stream",
     "text": [
      "page 1 downloaded sucessfully!\n",
      "page 2 downloaded sucessfully!\n",
      "page 3 downloaded sucessfully!\n",
      "page 4 downloaded sucessfully!\n",
      "page 5 downloaded sucessfully!\n",
      "page 6 downloaded sucessfully!\n",
      "page 7 downloaded sucessfully!\n",
      "page 8 downloaded sucessfully!\n",
      "page 9 downloaded sucessfully!\n",
      "page 10 downloaded sucessfully!\n",
      "page 11 downloaded sucessfully!\n",
      "page 12 downloaded sucessfully!\n",
      "page 13 downloaded sucessfully!\n",
      "page 14 downloaded sucessfully!\n",
      "page 15 downloaded sucessfully!\n",
      "page 16 downloaded sucessfully!\n",
      "page 17 downloaded sucessfully!\n",
      "page 18 downloaded sucessfully!\n",
      "page 19 downloaded sucessfully!\n",
      "page 20 downloaded sucessfully!\n",
      "page 21 downloaded sucessfully!\n",
      "page 22 downloaded sucessfully!\n",
      "page 23 downloaded sucessfully!\n",
      "page 24 downloaded sucessfully!\n",
      "page 25 downloaded sucessfully!\n",
      "page 26 downloaded sucessfully!\n",
      "page 27 downloaded sucessfully!\n",
      "page 28 downloaded sucessfully!\n",
      "page 29 downloaded sucessfully!\n",
      "page 30 downloaded sucessfully!\n",
      "page 31 downloaded sucessfully!\n",
      "page 32 downloaded sucessfully!\n",
      "page 33 downloaded sucessfully!\n",
      "page 34 downloaded sucessfully!\n",
      "page 35 downloaded sucessfully!\n",
      "page 36 downloaded sucessfully!\n",
      "page 37 downloaded sucessfully!\n",
      "page 38 downloaded sucessfully!\n",
      "page 39 downloaded sucessfully!\n",
      "page 40 downloaded sucessfully!\n",
      "page 41 downloaded sucessfully!\n",
      "page 42 downloaded sucessfully!\n",
      "page 43 downloaded sucessfully!\n",
      "page 44 downloaded sucessfully!\n",
      "page 45 downloaded sucessfully!\n",
      "page 46 downloaded sucessfully!\n",
      "page 47 downloaded sucessfully!\n",
      "page 48 downloaded sucessfully!\n",
      "page 49 downloaded sucessfully!\n",
      "page 50 downloaded sucessfully!\n"
     ]
    }
   ],
   "source": [
    "for i in range(1,51):\n",
    "    a=requests.get(f\"https://books.toscrape.com/catalogue/page-{i}.html\")\n",
    "    with open(f\"home/page{i}.html\",\"w\",encoding=\"utf-8\") as f:\n",
    "        f.write(a.text)\n",
    "        print(f\"page {i} downloaded sucessfully!\")"
   ]
  },
  {
   "cell_type": "code",
   "execution_count": null,
   "id": "758e944a-ddce-40c8-ad9d-929dedeaec61",
   "metadata": {},
   "outputs": [],
   "source": []
  }
 ],
 "metadata": {
  "kernelspec": {
   "display_name": "Python 3 (ipykernel)",
   "language": "python",
   "name": "python3"
  },
  "language_info": {
   "codemirror_mode": {
    "name": "ipython",
    "version": 3
   },
   "file_extension": ".py",
   "mimetype": "text/x-python",
   "name": "python",
   "nbconvert_exporter": "python",
   "pygments_lexer": "ipython3",
   "version": "3.12.7"
  }
 },
 "nbformat": 4,
 "nbformat_minor": 5
}
