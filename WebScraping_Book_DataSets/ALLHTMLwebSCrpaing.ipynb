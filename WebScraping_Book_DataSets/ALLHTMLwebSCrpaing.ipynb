{
 "cells": [
  {
   "cell_type": "code",
   "execution_count": 49,
   "id": "21620e16-6750-47b3-8689-a68b4a2843a7",
   "metadata": {},
   "outputs": [
    {
     "name": "stdout",
     "output_type": "stream",
     "text": [
      "                                   Title  Price  Rating\n",
      "0                   A Light in the Attic  51.77       3\n",
      "1                     Tipping the Velvet  53.74       1\n",
      "2                             Soumission  50.10       1\n",
      "3                          Sharp Objects  47.82       4\n",
      "4  Sapiens: A Brief History of Humankind  54.23       5\n"
     ]
    }
   ],
   "source": [
    "from bs4 import BeautifulSoup\n",
    "import pandas as pd\n",
    "\n",
    "items = []  # Use 'items' not 'item' to avoid confusion with .append\n",
    "\n",
    "for i in range(1, 51):  # 1 to 51 (inclusive)\n",
    "    with open(f\"home/page{i}.html\", encoding='utf-8') as f:\n",
    "        content = f.read()\n",
    "\n",
    "    soup = BeautifulSoup(content, \"html.parser\")\n",
    "    articles = soup.select(\"article.product_pod\")\n",
    "\n",
    "    for article in articles:\n",
    "        title = article.find(\"h3\").find(\"a\")[\"title\"]\n",
    "        price = article.select_one(\"p.price_color\").text.split(\"£\")[1]\n",
    "        starrating = article.select_one(\"p.star-rating\")\n",
    "        rating_class = starrating['class'][1]  # e.g., 'Three'\n",
    "\n",
    "        items.append([title, price, rating_class])\n",
    "\n",
    "# Convert to DataFrame\n",
    "df = pd.DataFrame(items, columns=[\"Title\", \"Price\", \"Rating\"])\n",
    "\n",
    "# Convert Rating text to numeric values\n",
    "df[\"Rating\"] = df[\"Rating\"].map({\n",
    "    \"One\": 1,\n",
    "    \"Two\": 2,\n",
    "    \"Three\": 3,\n",
    "    \"Four\": 4,\n",
    "    \"Five\": 5\n",
    "})\n",
    "\n",
    "# Preview\n",
    "print(df.head())\n"
   ]
  },
  {
   "cell_type": "code",
   "execution_count": 51,
   "id": "251fad24-4790-4d31-8f43-61b58d10114c",
   "metadata": {
    "scrolled": true
   },
   "outputs": [],
   "source": [
    "df.to_csv(\"BOOKscrapingNEW.csv\",index=False)"
   ]
  },
  {
   "cell_type": "code",
   "execution_count": null,
   "id": "7ac658ce-326a-4f7e-b39b-2143edc1e319",
   "metadata": {},
   "outputs": [],
   "source": []
  },
  {
   "cell_type": "code",
   "execution_count": null,
   "id": "aee214cc-ad80-48ad-bdc5-069b02e3b015",
   "metadata": {
    "scrolled": true
   },
   "outputs": [],
   "source": []
  },
  {
   "cell_type": "code",
   "execution_count": null,
   "id": "ce214127-c882-4624-aad7-d4f0d70e71d7",
   "metadata": {
    "scrolled": true
   },
   "outputs": [],
   "source": []
  },
  {
   "cell_type": "code",
   "execution_count": null,
   "id": "8d580776-b02c-4d31-8b0a-3d0a96279adc",
   "metadata": {},
   "outputs": [],
   "source": [
    "\n"
   ]
  },
  {
   "cell_type": "code",
   "execution_count": null,
   "id": "a888644d-e320-44d7-96d6-5f6fc8e35a64",
   "metadata": {},
   "outputs": [],
   "source": []
  },
  {
   "cell_type": "code",
   "execution_count": null,
   "id": "91a1b872-af3a-4725-9a78-175583408bf2",
   "metadata": {},
   "outputs": [],
   "source": []
  }
 ],
 "metadata": {
  "kernelspec": {
   "display_name": "Python 3 (ipykernel)",
   "language": "python",
   "name": "python3"
  },
  "language_info": {
   "codemirror_mode": {
    "name": "ipython",
    "version": 3
   },
   "file_extension": ".py",
   "mimetype": "text/x-python",
   "name": "python",
   "nbconvert_exporter": "python",
   "pygments_lexer": "ipython3",
   "version": "3.12.7"
  }
 },
 "nbformat": 4,
 "nbformat_minor": 5
}
